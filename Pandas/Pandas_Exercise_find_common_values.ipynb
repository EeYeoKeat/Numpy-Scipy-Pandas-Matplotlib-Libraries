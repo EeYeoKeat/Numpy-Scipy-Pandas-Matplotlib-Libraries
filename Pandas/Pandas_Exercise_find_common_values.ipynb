{
  "nbformat": 4,
  "nbformat_minor": 0,
  "metadata": {
    "colab": {
      "name": "Pandas_Exercise_find_common_values.ipynb",
      "provenance": [],
      "collapsed_sections": []
    },
    "kernelspec": {
      "name": "python3",
      "display_name": "Python 3"
    },
    "accelerator": "GPU"
  },
  "cells": [
    {
      "cell_type": "code",
      "metadata": {
        "id": "90q_OxMaA3sD",
        "colab_type": "code",
        "outputId": "30a3b7dd-cd80-418d-e0fc-c43675d7fe85",
        "colab": {
          "base_uri": "https://localhost:8080/",
          "height": 187
        }
      },
      "source": [
        "import pandas as pd\n",
        "import numpy as np\n",
        "  \n",
        "# initialize list of lists \n",
        "data = np.array([[32, 256, 5, 102, 74, 171, 270, 111, 209, 24],\n",
        "                [1, 258, 257, 281, 10, 269, 14, 13, 272, 273],\n",
        "                [258, 260, 264, 11, 271, 288, 294, 300, 301],\n",
        "                [9, 10, 11, 12, 22, 28],\n",
        "                [1, 514, 2, 516, 4, 13, 526, 527, 1037, 529, 256, 678],\n",
        "                [1, 1028, 7, 9, 1033, 15, 1047, 25, 546, 1061],\n",
        "                [258, 259, 514, 261, 131, 135, 520, 265, 1028, 50],\n",
        "                [2, 11, 12, 526, 1044, 22, 23, 27, 541, 54, 88],\n",
        "                [332, 168, 79, 343, 38, 1007, 9, 232, 381, 1079],\n",
        "                [38, 168, 561, 542, 69, 20, 79, 385, 332, 480]])\n",
        "\n",
        "data"
      ],
      "execution_count": 1,
      "outputs": [
        {
          "output_type": "execute_result",
          "data": {
            "text/plain": [
              "array([list([32, 256, 5, 102, 74, 171, 270, 111, 209, 24]),\n",
              "       list([1, 258, 257, 281, 10, 269, 14, 13, 272, 273]),\n",
              "       list([258, 260, 264, 11, 271, 288, 294, 300, 301]),\n",
              "       list([9, 10, 11, 12, 22, 28]),\n",
              "       list([1, 514, 2, 516, 4, 13, 526, 527, 1037, 529, 256, 678]),\n",
              "       list([1, 1028, 7, 9, 1033, 15, 1047, 25, 546, 1061]),\n",
              "       list([258, 259, 514, 261, 131, 135, 520, 265, 1028, 50]),\n",
              "       list([2, 11, 12, 526, 1044, 22, 23, 27, 541, 54, 88]),\n",
              "       list([332, 168, 79, 343, 38, 1007, 9, 232, 381, 1079]),\n",
              "       list([38, 168, 561, 542, 69, 20, 79, 385, 332, 480])], dtype=object)"
            ]
          },
          "metadata": {
            "tags": []
          },
          "execution_count": 1
        }
      ]
    },
    {
      "cell_type": "code",
      "metadata": {
        "id": "x1z4V6O5dVIq",
        "colab_type": "code",
        "outputId": "9cbb5ffc-a15d-4644-ce18-174bdc162792",
        "colab": {
          "base_uri": "https://localhost:8080/",
          "height": 359
        }
      },
      "source": [
        "data = pd.DataFrame(data)\n",
        "data"
      ],
      "execution_count": 2,
      "outputs": [
        {
          "output_type": "execute_result",
          "data": {
            "text/html": [
              "<div>\n",
              "<style scoped>\n",
              "    .dataframe tbody tr th:only-of-type {\n",
              "        vertical-align: middle;\n",
              "    }\n",
              "\n",
              "    .dataframe tbody tr th {\n",
              "        vertical-align: top;\n",
              "    }\n",
              "\n",
              "    .dataframe thead th {\n",
              "        text-align: right;\n",
              "    }\n",
              "</style>\n",
              "<table border=\"1\" class=\"dataframe\">\n",
              "  <thead>\n",
              "    <tr style=\"text-align: right;\">\n",
              "      <th></th>\n",
              "      <th>0</th>\n",
              "    </tr>\n",
              "  </thead>\n",
              "  <tbody>\n",
              "    <tr>\n",
              "      <th>0</th>\n",
              "      <td>[32, 256, 5, 102, 74, 171, 270, 111, 209, 24]</td>\n",
              "    </tr>\n",
              "    <tr>\n",
              "      <th>1</th>\n",
              "      <td>[1, 258, 257, 281, 10, 269, 14, 13, 272, 273]</td>\n",
              "    </tr>\n",
              "    <tr>\n",
              "      <th>2</th>\n",
              "      <td>[258, 260, 264, 11, 271, 288, 294, 300, 301]</td>\n",
              "    </tr>\n",
              "    <tr>\n",
              "      <th>3</th>\n",
              "      <td>[9, 10, 11, 12, 22, 28]</td>\n",
              "    </tr>\n",
              "    <tr>\n",
              "      <th>4</th>\n",
              "      <td>[1, 514, 2, 516, 4, 13, 526, 527, 1037, 529, 2...</td>\n",
              "    </tr>\n",
              "    <tr>\n",
              "      <th>5</th>\n",
              "      <td>[1, 1028, 7, 9, 1033, 15, 1047, 25, 546, 1061]</td>\n",
              "    </tr>\n",
              "    <tr>\n",
              "      <th>6</th>\n",
              "      <td>[258, 259, 514, 261, 131, 135, 520, 265, 1028,...</td>\n",
              "    </tr>\n",
              "    <tr>\n",
              "      <th>7</th>\n",
              "      <td>[2, 11, 12, 526, 1044, 22, 23, 27, 541, 54, 88]</td>\n",
              "    </tr>\n",
              "    <tr>\n",
              "      <th>8</th>\n",
              "      <td>[332, 168, 79, 343, 38, 1007, 9, 232, 381, 1079]</td>\n",
              "    </tr>\n",
              "    <tr>\n",
              "      <th>9</th>\n",
              "      <td>[38, 168, 561, 542, 69, 20, 79, 385, 332, 480]</td>\n",
              "    </tr>\n",
              "  </tbody>\n",
              "</table>\n",
              "</div>"
            ],
            "text/plain": [
              "                                                   0\n",
              "0      [32, 256, 5, 102, 74, 171, 270, 111, 209, 24]\n",
              "1      [1, 258, 257, 281, 10, 269, 14, 13, 272, 273]\n",
              "2       [258, 260, 264, 11, 271, 288, 294, 300, 301]\n",
              "3                            [9, 10, 11, 12, 22, 28]\n",
              "4  [1, 514, 2, 516, 4, 13, 526, 527, 1037, 529, 2...\n",
              "5     [1, 1028, 7, 9, 1033, 15, 1047, 25, 546, 1061]\n",
              "6  [258, 259, 514, 261, 131, 135, 520, 265, 1028,...\n",
              "7    [2, 11, 12, 526, 1044, 22, 23, 27, 541, 54, 88]\n",
              "8   [332, 168, 79, 343, 38, 1007, 9, 232, 381, 1079]\n",
              "9     [38, 168, 561, 542, 69, 20, 79, 385, 332, 480]"
            ]
          },
          "metadata": {
            "tags": []
          },
          "execution_count": 2
        }
      ]
    },
    {
      "cell_type": "code",
      "metadata": {
        "id": "UsT4xBzidcZH",
        "colab_type": "code",
        "outputId": "fb3f6aaa-1092-4f5e-f285-c576c8d25f17",
        "colab": {
          "base_uri": "https://localhost:8080/",
          "height": 359
        }
      },
      "source": [
        "test_actual = data.rename(columns={0: \"Actual\"})\n",
        "test_actual"
      ],
      "execution_count": 3,
      "outputs": [
        {
          "output_type": "execute_result",
          "data": {
            "text/html": [
              "<div>\n",
              "<style scoped>\n",
              "    .dataframe tbody tr th:only-of-type {\n",
              "        vertical-align: middle;\n",
              "    }\n",
              "\n",
              "    .dataframe tbody tr th {\n",
              "        vertical-align: top;\n",
              "    }\n",
              "\n",
              "    .dataframe thead th {\n",
              "        text-align: right;\n",
              "    }\n",
              "</style>\n",
              "<table border=\"1\" class=\"dataframe\">\n",
              "  <thead>\n",
              "    <tr style=\"text-align: right;\">\n",
              "      <th></th>\n",
              "      <th>Actual</th>\n",
              "    </tr>\n",
              "  </thead>\n",
              "  <tbody>\n",
              "    <tr>\n",
              "      <th>0</th>\n",
              "      <td>[32, 256, 5, 102, 74, 171, 270, 111, 209, 24]</td>\n",
              "    </tr>\n",
              "    <tr>\n",
              "      <th>1</th>\n",
              "      <td>[1, 258, 257, 281, 10, 269, 14, 13, 272, 273]</td>\n",
              "    </tr>\n",
              "    <tr>\n",
              "      <th>2</th>\n",
              "      <td>[258, 260, 264, 11, 271, 288, 294, 300, 301]</td>\n",
              "    </tr>\n",
              "    <tr>\n",
              "      <th>3</th>\n",
              "      <td>[9, 10, 11, 12, 22, 28]</td>\n",
              "    </tr>\n",
              "    <tr>\n",
              "      <th>4</th>\n",
              "      <td>[1, 514, 2, 516, 4, 13, 526, 527, 1037, 529, 2...</td>\n",
              "    </tr>\n",
              "    <tr>\n",
              "      <th>5</th>\n",
              "      <td>[1, 1028, 7, 9, 1033, 15, 1047, 25, 546, 1061]</td>\n",
              "    </tr>\n",
              "    <tr>\n",
              "      <th>6</th>\n",
              "      <td>[258, 259, 514, 261, 131, 135, 520, 265, 1028,...</td>\n",
              "    </tr>\n",
              "    <tr>\n",
              "      <th>7</th>\n",
              "      <td>[2, 11, 12, 526, 1044, 22, 23, 27, 541, 54, 88]</td>\n",
              "    </tr>\n",
              "    <tr>\n",
              "      <th>8</th>\n",
              "      <td>[332, 168, 79, 343, 38, 1007, 9, 232, 381, 1079]</td>\n",
              "    </tr>\n",
              "    <tr>\n",
              "      <th>9</th>\n",
              "      <td>[38, 168, 561, 542, 69, 20, 79, 385, 332, 480]</td>\n",
              "    </tr>\n",
              "  </tbody>\n",
              "</table>\n",
              "</div>"
            ],
            "text/plain": [
              "                                              Actual\n",
              "0      [32, 256, 5, 102, 74, 171, 270, 111, 209, 24]\n",
              "1      [1, 258, 257, 281, 10, 269, 14, 13, 272, 273]\n",
              "2       [258, 260, 264, 11, 271, 288, 294, 300, 301]\n",
              "3                            [9, 10, 11, 12, 22, 28]\n",
              "4  [1, 514, 2, 516, 4, 13, 526, 527, 1037, 529, 2...\n",
              "5     [1, 1028, 7, 9, 1033, 15, 1047, 25, 546, 1061]\n",
              "6  [258, 259, 514, 261, 131, 135, 520, 265, 1028,...\n",
              "7    [2, 11, 12, 526, 1044, 22, 23, 27, 541, 54, 88]\n",
              "8   [332, 168, 79, 343, 38, 1007, 9, 232, 381, 1079]\n",
              "9     [38, 168, 561, 542, 69, 20, 79, 385, 332, 480]"
            ]
          },
          "metadata": {
            "tags": []
          },
          "execution_count": 3
        }
      ]
    },
    {
      "cell_type": "code",
      "metadata": {
        "id": "MjO-coaJe6yf",
        "colab_type": "code",
        "outputId": "915ad7a8-111b-4306-b643-c3a3ea67d671",
        "colab": {
          "base_uri": "https://localhost:8080/",
          "height": 390
        }
      },
      "source": [
        "# Add columns here\n",
        "test_actual['userId'] = [1,2,3,5,6,8,10,12,15,18]\n",
        "test_actual = test_actual.set_index('userId')\n",
        "test_actual"
      ],
      "execution_count": 4,
      "outputs": [
        {
          "output_type": "execute_result",
          "data": {
            "text/html": [
              "<div>\n",
              "<style scoped>\n",
              "    .dataframe tbody tr th:only-of-type {\n",
              "        vertical-align: middle;\n",
              "    }\n",
              "\n",
              "    .dataframe tbody tr th {\n",
              "        vertical-align: top;\n",
              "    }\n",
              "\n",
              "    .dataframe thead th {\n",
              "        text-align: right;\n",
              "    }\n",
              "</style>\n",
              "<table border=\"1\" class=\"dataframe\">\n",
              "  <thead>\n",
              "    <tr style=\"text-align: right;\">\n",
              "      <th></th>\n",
              "      <th>Actual</th>\n",
              "    </tr>\n",
              "    <tr>\n",
              "      <th>userId</th>\n",
              "      <th></th>\n",
              "    </tr>\n",
              "  </thead>\n",
              "  <tbody>\n",
              "    <tr>\n",
              "      <th>1</th>\n",
              "      <td>[32, 256, 5, 102, 74, 171, 270, 111, 209, 24]</td>\n",
              "    </tr>\n",
              "    <tr>\n",
              "      <th>2</th>\n",
              "      <td>[1, 258, 257, 281, 10, 269, 14, 13, 272, 273]</td>\n",
              "    </tr>\n",
              "    <tr>\n",
              "      <th>3</th>\n",
              "      <td>[258, 260, 264, 11, 271, 288, 294, 300, 301]</td>\n",
              "    </tr>\n",
              "    <tr>\n",
              "      <th>5</th>\n",
              "      <td>[9, 10, 11, 12, 22, 28]</td>\n",
              "    </tr>\n",
              "    <tr>\n",
              "      <th>6</th>\n",
              "      <td>[1, 514, 2, 516, 4, 13, 526, 527, 1037, 529, 2...</td>\n",
              "    </tr>\n",
              "    <tr>\n",
              "      <th>8</th>\n",
              "      <td>[1, 1028, 7, 9, 1033, 15, 1047, 25, 546, 1061]</td>\n",
              "    </tr>\n",
              "    <tr>\n",
              "      <th>10</th>\n",
              "      <td>[258, 259, 514, 261, 131, 135, 520, 265, 1028,...</td>\n",
              "    </tr>\n",
              "    <tr>\n",
              "      <th>12</th>\n",
              "      <td>[2, 11, 12, 526, 1044, 22, 23, 27, 541, 54, 88]</td>\n",
              "    </tr>\n",
              "    <tr>\n",
              "      <th>15</th>\n",
              "      <td>[332, 168, 79, 343, 38, 1007, 9, 232, 381, 1079]</td>\n",
              "    </tr>\n",
              "    <tr>\n",
              "      <th>18</th>\n",
              "      <td>[38, 168, 561, 542, 69, 20, 79, 385, 332, 480]</td>\n",
              "    </tr>\n",
              "  </tbody>\n",
              "</table>\n",
              "</div>"
            ],
            "text/plain": [
              "                                                   Actual\n",
              "userId                                                   \n",
              "1           [32, 256, 5, 102, 74, 171, 270, 111, 209, 24]\n",
              "2           [1, 258, 257, 281, 10, 269, 14, 13, 272, 273]\n",
              "3            [258, 260, 264, 11, 271, 288, 294, 300, 301]\n",
              "5                                 [9, 10, 11, 12, 22, 28]\n",
              "6       [1, 514, 2, 516, 4, 13, 526, 527, 1037, 529, 2...\n",
              "8          [1, 1028, 7, 9, 1033, 15, 1047, 25, 546, 1061]\n",
              "10      [258, 259, 514, 261, 131, 135, 520, 265, 1028,...\n",
              "12        [2, 11, 12, 526, 1044, 22, 23, 27, 541, 54, 88]\n",
              "15       [332, 168, 79, 343, 38, 1007, 9, 232, 381, 1079]\n",
              "18         [38, 168, 561, 542, 69, 20, 79, 385, 332, 480]"
            ]
          },
          "metadata": {
            "tags": []
          },
          "execution_count": 4
        }
      ]
    },
    {
      "cell_type": "code",
      "metadata": {
        "id": "0RB-6jr_ePZ5",
        "colab_type": "code",
        "outputId": "a26e2d33-91a7-4f4c-9823-2872fc123fd2",
        "colab": {
          "base_uri": "https://localhost:8080/",
          "height": 34
        }
      },
      "source": [
        "type(test_actual)"
      ],
      "execution_count": 5,
      "outputs": [
        {
          "output_type": "execute_result",
          "data": {
            "text/plain": [
              "pandas.core.frame.DataFrame"
            ]
          },
          "metadata": {
            "tags": []
          },
          "execution_count": 5
        }
      ]
    },
    {
      "cell_type": "code",
      "metadata": {
        "id": "wzCv3esXNS4G",
        "colab_type": "code",
        "outputId": "b717f1eb-85db-4436-e6bd-5d2a8d51030a",
        "colab": {
          "base_uri": "https://localhost:8080/",
          "height": 187
        }
      },
      "source": [
        "data2 = [[154, 248, 237, 223, 83, 283, 69, 32, 480, 325],         #32\n",
        "         [332, 168, 38, 9, 385, 258, 561, 41, 79, 542],           #258\n",
        "         [322, 258, 226, 232, 1007, 343, 332, 260, 561, 381],     #258,260\n",
        "         [237, 154, 196, 223, 523, 277, 226, 748, 323, 28],       #28\n",
        "         [168, 332, 38, 9, 83, 561, 232, 526, 1007, 20],          #526\n",
        "         [79, 38, 480, 168, 232, 561, 653, 9, 542, 996],          #9\n",
        "         [9, 232, 332, 523, 168, 322, 7, 1028, 41, 542],          #1028\n",
        "         [83, 168, 232, 322, 385, 223, 154, 941, 283, 12],        #12\n",
        "         [69, 38, 196, 480, 83, 385, 20, 343, 283, 542],          #38,343\n",
        "         [480, 38, 69, 83, 385, 154, 542, 941, 283, 223]]         #480,69,38,385,542\n",
        "data2"
      ],
      "execution_count": 6,
      "outputs": [
        {
          "output_type": "execute_result",
          "data": {
            "text/plain": [
              "[[154, 248, 237, 223, 83, 283, 69, 32, 480, 325],\n",
              " [332, 168, 38, 9, 385, 258, 561, 41, 79, 542],\n",
              " [322, 258, 226, 232, 1007, 343, 332, 260, 561, 381],\n",
              " [237, 154, 196, 223, 523, 277, 226, 748, 323, 28],\n",
              " [168, 332, 38, 9, 83, 561, 232, 526, 1007, 20],\n",
              " [79, 38, 480, 168, 232, 561, 653, 9, 542, 996],\n",
              " [9, 232, 332, 523, 168, 322, 7, 1028, 41, 542],\n",
              " [83, 168, 232, 322, 385, 223, 154, 941, 283, 12],\n",
              " [69, 38, 196, 480, 83, 385, 20, 343, 283, 542],\n",
              " [480, 38, 69, 83, 385, 154, 542, 941, 283, 223]]"
            ]
          },
          "metadata": {
            "tags": []
          },
          "execution_count": 6
        }
      ]
    },
    {
      "cell_type": "code",
      "metadata": {
        "id": "5XsDBkecNt-a",
        "colab_type": "code",
        "outputId": "f129f7e1-6cc4-4624-b572-bb9e1cd3ae92",
        "colab": {
          "base_uri": "https://localhost:8080/",
          "height": 390
        }
      },
      "source": [
        "test_actual['Predict'] = data2\n",
        "test_actual"
      ],
      "execution_count": 7,
      "outputs": [
        {
          "output_type": "execute_result",
          "data": {
            "text/html": [
              "<div>\n",
              "<style scoped>\n",
              "    .dataframe tbody tr th:only-of-type {\n",
              "        vertical-align: middle;\n",
              "    }\n",
              "\n",
              "    .dataframe tbody tr th {\n",
              "        vertical-align: top;\n",
              "    }\n",
              "\n",
              "    .dataframe thead th {\n",
              "        text-align: right;\n",
              "    }\n",
              "</style>\n",
              "<table border=\"1\" class=\"dataframe\">\n",
              "  <thead>\n",
              "    <tr style=\"text-align: right;\">\n",
              "      <th></th>\n",
              "      <th>Actual</th>\n",
              "      <th>Predict</th>\n",
              "    </tr>\n",
              "    <tr>\n",
              "      <th>userId</th>\n",
              "      <th></th>\n",
              "      <th></th>\n",
              "    </tr>\n",
              "  </thead>\n",
              "  <tbody>\n",
              "    <tr>\n",
              "      <th>1</th>\n",
              "      <td>[32, 256, 5, 102, 74, 171, 270, 111, 209, 24]</td>\n",
              "      <td>[154, 248, 237, 223, 83, 283, 69, 32, 480, 325]</td>\n",
              "    </tr>\n",
              "    <tr>\n",
              "      <th>2</th>\n",
              "      <td>[1, 258, 257, 281, 10, 269, 14, 13, 272, 273]</td>\n",
              "      <td>[332, 168, 38, 9, 385, 258, 561, 41, 79, 542]</td>\n",
              "    </tr>\n",
              "    <tr>\n",
              "      <th>3</th>\n",
              "      <td>[258, 260, 264, 11, 271, 288, 294, 300, 301]</td>\n",
              "      <td>[322, 258, 226, 232, 1007, 343, 332, 260, 561,...</td>\n",
              "    </tr>\n",
              "    <tr>\n",
              "      <th>5</th>\n",
              "      <td>[9, 10, 11, 12, 22, 28]</td>\n",
              "      <td>[237, 154, 196, 223, 523, 277, 226, 748, 323, 28]</td>\n",
              "    </tr>\n",
              "    <tr>\n",
              "      <th>6</th>\n",
              "      <td>[1, 514, 2, 516, 4, 13, 526, 527, 1037, 529, 2...</td>\n",
              "      <td>[168, 332, 38, 9, 83, 561, 232, 526, 1007, 20]</td>\n",
              "    </tr>\n",
              "    <tr>\n",
              "      <th>8</th>\n",
              "      <td>[1, 1028, 7, 9, 1033, 15, 1047, 25, 546, 1061]</td>\n",
              "      <td>[79, 38, 480, 168, 232, 561, 653, 9, 542, 996]</td>\n",
              "    </tr>\n",
              "    <tr>\n",
              "      <th>10</th>\n",
              "      <td>[258, 259, 514, 261, 131, 135, 520, 265, 1028,...</td>\n",
              "      <td>[9, 232, 332, 523, 168, 322, 7, 1028, 41, 542]</td>\n",
              "    </tr>\n",
              "    <tr>\n",
              "      <th>12</th>\n",
              "      <td>[2, 11, 12, 526, 1044, 22, 23, 27, 541, 54, 88]</td>\n",
              "      <td>[83, 168, 232, 322, 385, 223, 154, 941, 283, 12]</td>\n",
              "    </tr>\n",
              "    <tr>\n",
              "      <th>15</th>\n",
              "      <td>[332, 168, 79, 343, 38, 1007, 9, 232, 381, 1079]</td>\n",
              "      <td>[69, 38, 196, 480, 83, 385, 20, 343, 283, 542]</td>\n",
              "    </tr>\n",
              "    <tr>\n",
              "      <th>18</th>\n",
              "      <td>[38, 168, 561, 542, 69, 20, 79, 385, 332, 480]</td>\n",
              "      <td>[480, 38, 69, 83, 385, 154, 542, 941, 283, 223]</td>\n",
              "    </tr>\n",
              "  </tbody>\n",
              "</table>\n",
              "</div>"
            ],
            "text/plain": [
              "                                                   Actual                                            Predict\n",
              "userId                                                                                                      \n",
              "1           [32, 256, 5, 102, 74, 171, 270, 111, 209, 24]    [154, 248, 237, 223, 83, 283, 69, 32, 480, 325]\n",
              "2           [1, 258, 257, 281, 10, 269, 14, 13, 272, 273]      [332, 168, 38, 9, 385, 258, 561, 41, 79, 542]\n",
              "3            [258, 260, 264, 11, 271, 288, 294, 300, 301]  [322, 258, 226, 232, 1007, 343, 332, 260, 561,...\n",
              "5                                 [9, 10, 11, 12, 22, 28]  [237, 154, 196, 223, 523, 277, 226, 748, 323, 28]\n",
              "6       [1, 514, 2, 516, 4, 13, 526, 527, 1037, 529, 2...     [168, 332, 38, 9, 83, 561, 232, 526, 1007, 20]\n",
              "8          [1, 1028, 7, 9, 1033, 15, 1047, 25, 546, 1061]     [79, 38, 480, 168, 232, 561, 653, 9, 542, 996]\n",
              "10      [258, 259, 514, 261, 131, 135, 520, 265, 1028,...     [9, 232, 332, 523, 168, 322, 7, 1028, 41, 542]\n",
              "12        [2, 11, 12, 526, 1044, 22, 23, 27, 541, 54, 88]   [83, 168, 232, 322, 385, 223, 154, 941, 283, 12]\n",
              "15       [332, 168, 79, 343, 38, 1007, 9, 232, 381, 1079]     [69, 38, 196, 480, 83, 385, 20, 343, 283, 542]\n",
              "18         [38, 168, 561, 542, 69, 20, 79, 385, 332, 480]    [480, 38, 69, 83, 385, 154, 542, 941, 283, 223]"
            ]
          },
          "metadata": {
            "tags": []
          },
          "execution_count": 7
        }
      ]
    },
    {
      "cell_type": "code",
      "metadata": {
        "id": "MEmV1Q6x7POD",
        "colab_type": "code",
        "outputId": "11d7509c-4d01-4641-c8d2-6b9075ec8705",
        "colab": {
          "base_uri": "https://localhost:8080/",
          "height": 187
        }
      },
      "source": [
        "# for user in range(0, len(test_actual.index)):\n",
        "for user in test_actual.index:\n",
        "  print(user)"
      ],
      "execution_count": 8,
      "outputs": [
        {
          "output_type": "stream",
          "text": [
            "1\n",
            "2\n",
            "3\n",
            "5\n",
            "6\n",
            "8\n",
            "10\n",
            "12\n",
            "15\n",
            "18\n"
          ],
          "name": "stdout"
        }
      ]
    },
    {
      "cell_type": "code",
      "metadata": {
        "id": "xc1XRakDRXJx",
        "colab_type": "code",
        "outputId": "46a443e4-a5fe-4000-c331-39fe930568df",
        "colab": {
          "base_uri": "https://localhost:8080/",
          "height": 221
        }
      },
      "source": [
        "result = test_actual.apply(lambda x: len(np.intersect1d(x['Actual'],x['Predict'])), axis = 1)\n",
        "result"
      ],
      "execution_count": 9,
      "outputs": [
        {
          "output_type": "execute_result",
          "data": {
            "text/plain": [
              "userId\n",
              "1     1\n",
              "2     1\n",
              "3     2\n",
              "5     1\n",
              "6     1\n",
              "8     1\n",
              "10    1\n",
              "12    1\n",
              "15    2\n",
              "18    5\n",
              "dtype: int64"
            ]
          },
          "metadata": {
            "tags": []
          },
          "execution_count": 9
        }
      ]
    },
    {
      "cell_type": "code",
      "metadata": {
        "id": "QMl5q9qqZz0n",
        "colab_type": "code",
        "outputId": "bac7421d-a2f6-4c61-885b-752d723473fb",
        "colab": {
          "base_uri": "https://localhost:8080/",
          "height": 34
        }
      },
      "source": [
        "# The total number of intersect items\n",
        "print(sum(result))"
      ],
      "execution_count": 19,
      "outputs": [
        {
          "output_type": "stream",
          "text": [
            "16\n"
          ],
          "name": "stdout"
        }
      ]
    },
    {
      "cell_type": "code",
      "metadata": {
        "id": "H0koGaR9RdKP",
        "colab_type": "code",
        "outputId": "66f1f024-7e60-4d91-a58c-5319994f3bc4",
        "colab": {
          "base_uri": "https://localhost:8080/",
          "height": 238
        }
      },
      "source": [
        "print(\"Common items in both two arrays:\")\n",
        "test_actual.apply(lambda x: np.intersect1d(x['Actual'],x['Predict']), axis = 1)"
      ],
      "execution_count": 12,
      "outputs": [
        {
          "output_type": "stream",
          "text": [
            "Common items in both two arrays:\n"
          ],
          "name": "stdout"
        },
        {
          "output_type": "execute_result",
          "data": {
            "text/plain": [
              "userId\n",
              "1                        [32]\n",
              "2                       [258]\n",
              "3                  [258, 260]\n",
              "5                        [28]\n",
              "6                       [526]\n",
              "8                         [9]\n",
              "10                     [1028]\n",
              "12                       [12]\n",
              "15                  [38, 343]\n",
              "18    [38, 69, 385, 480, 542]\n",
              "dtype: object"
            ]
          },
          "metadata": {
            "tags": []
          },
          "execution_count": 12
        }
      ]
    },
    {
      "cell_type": "code",
      "metadata": {
        "id": "_YgVyAFiSDvQ",
        "colab_type": "code",
        "outputId": "3e704cdd-4d59-40af-a4dc-62fd1c558388",
        "colab": {
          "base_uri": "https://localhost:8080/",
          "height": 221
        }
      },
      "source": [
        "(test_actual.apply(lambda x: set(x['Actual']).intersection(set(x['Predict'])), axis=1))"
      ],
      "execution_count": 11,
      "outputs": [
        {
          "output_type": "execute_result",
          "data": {
            "text/plain": [
              "userId\n",
              "1                        {32}\n",
              "2                       {258}\n",
              "3                  {258, 260}\n",
              "5                        {28}\n",
              "6                       {526}\n",
              "8                         {9}\n",
              "10                     {1028}\n",
              "12                       {12}\n",
              "15                  {38, 343}\n",
              "18    {480, 385, 69, 38, 542}\n",
              "dtype: object"
            ]
          },
          "metadata": {
            "tags": []
          },
          "execution_count": 11
        }
      ]
    }
  ]
}