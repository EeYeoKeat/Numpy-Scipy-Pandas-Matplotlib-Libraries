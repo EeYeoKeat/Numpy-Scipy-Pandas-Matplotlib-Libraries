{
  "nbformat": 4,
  "nbformat_minor": 0,
  "metadata": {
    "colab": {
      "name": "Pandas_Exercise_sort_sample.ipynb",
      "provenance": []
    },
    "kernelspec": {
      "name": "python3",
      "display_name": "Python 3"
    },
    "accelerator": "GPU"
  },
  "cells": [
    {
      "cell_type": "markdown",
      "metadata": {
        "id": "bKiw8g_CLYnz",
        "colab_type": "text"
      },
      "source": [
        "# **Sort Number**"
      ]
    },
    {
      "cell_type": "code",
      "metadata": {
        "id": "1XiX4U_GcBW9",
        "colab_type": "code",
        "outputId": "031e096a-4a5b-436c-c255-49aa9a959fd8",
        "colab": {
          "base_uri": "https://localhost:8080/",
          "height": 34
        }
      },
      "source": [
        "import numpy as np\n",
        "import random\n",
        "\n",
        "a = random.sample(range(100), 10)\n",
        "a"
      ],
      "execution_count": 6,
      "outputs": [
        {
          "output_type": "execute_result",
          "data": {
            "text/plain": [
              "[68, 78, 50, 83, 6, 66, 44, 69, 21, 5]"
            ]
          },
          "metadata": {
            "tags": []
          },
          "execution_count": 6
        }
      ]
    },
    {
      "cell_type": "code",
      "metadata": {
        "id": "Cqj8-ghYCE-p",
        "colab_type": "code",
        "colab": {
          "base_uri": "https://localhost:8080/",
          "height": 34
        },
        "outputId": "28116d17-dbf6-4d21-ddaa-c78efa93c5bc"
      },
      "source": [
        "a.sort()\n",
        "a"
      ],
      "execution_count": 7,
      "outputs": [
        {
          "output_type": "execute_result",
          "data": {
            "text/plain": [
              "[5, 6, 21, 44, 50, 66, 68, 69, 78, 83]"
            ]
          },
          "metadata": {
            "tags": []
          },
          "execution_count": 7
        }
      ]
    },
    {
      "cell_type": "code",
      "metadata": {
        "id": "H3zG1vFoL87z",
        "colab_type": "code",
        "colab": {
          "base_uri": "https://localhost:8080/",
          "height": 34
        },
        "outputId": "5b718068-18c2-4d16-a8d1-a46264e28cc9"
      },
      "source": [
        "a.sort(reverse=True)\n",
        "a"
      ],
      "execution_count": 9,
      "outputs": [
        {
          "output_type": "execute_result",
          "data": {
            "text/plain": [
              "[83, 78, 69, 68, 66, 50, 44, 21, 6, 5]"
            ]
          },
          "metadata": {
            "tags": []
          },
          "execution_count": 9
        }
      ]
    },
    {
      "cell_type": "markdown",
      "metadata": {
        "id": "gu8Iey7LLyZE",
        "colab_type": "text"
      },
      "source": [
        "# **Sort String**"
      ]
    },
    {
      "cell_type": "code",
      "metadata": {
        "id": "qrD0HJb9LLus",
        "colab_type": "code",
        "colab": {
          "base_uri": "https://localhost:8080/",
          "height": 34
        },
        "outputId": "ce34c18f-e88e-4906-ddae-b8c5b77ce382"
      },
      "source": [
        "cars = ['Ferrari', 'Audi', 'BMW', 'VW']\n",
        "cars"
      ],
      "execution_count": 8,
      "outputs": [
        {
          "output_type": "execute_result",
          "data": {
            "text/plain": [
              "['Ferrari', 'Audi', 'BMW', 'VW']"
            ]
          },
          "metadata": {
            "tags": []
          },
          "execution_count": 8
        }
      ]
    },
    {
      "cell_type": "code",
      "metadata": {
        "id": "5EeAvAEkL79j",
        "colab_type": "code",
        "colab": {
          "base_uri": "https://localhost:8080/",
          "height": 34
        },
        "outputId": "6f79cb05-af80-4b6e-f175-5b2c3050d3c9"
      },
      "source": [
        "cars.sort()\n",
        "cars"
      ],
      "execution_count": 11,
      "outputs": [
        {
          "output_type": "execute_result",
          "data": {
            "text/plain": [
              "['Audi', 'BMW', 'Ferrari', 'VW']"
            ]
          },
          "metadata": {
            "tags": []
          },
          "execution_count": 11
        }
      ]
    },
    {
      "cell_type": "code",
      "metadata": {
        "id": "jxB5ouoLMHKu",
        "colab_type": "code",
        "colab": {
          "base_uri": "https://localhost:8080/",
          "height": 34
        },
        "outputId": "1a50eedc-c16c-4dd5-abc2-8b7966b4a299"
      },
      "source": [
        "# sort according to length of string\n",
        "cars.sort(key = len)\n",
        "cars"
      ],
      "execution_count": 14,
      "outputs": [
        {
          "output_type": "execute_result",
          "data": {
            "text/plain": [
              "['VW', 'BMW', 'Audi', 'Ferrari']"
            ]
          },
          "metadata": {
            "tags": []
          },
          "execution_count": 14
        }
      ]
    },
    {
      "cell_type": "markdown",
      "metadata": {
        "id": "N87EOa_BNVvM",
        "colab_type": "text"
      },
      "source": [
        "# **Sort Dates**"
      ]
    },
    {
      "cell_type": "code",
      "metadata": {
        "id": "VS0f6zJgMRVh",
        "colab_type": "code",
        "colab": {
          "base_uri": "https://localhost:8080/",
          "height": 119
        },
        "outputId": "ee6f6fcf-b964-41c9-c278-0d4910440e9a"
      },
      "source": [
        "dates = ['18 Jul 2016', '25 Jul 2015', '11 Jun 1996', '21 Oct 1993', '2 Aug 2010', '01 Jan 1997']\n",
        "dates"
      ],
      "execution_count": 17,
      "outputs": [
        {
          "output_type": "execute_result",
          "data": {
            "text/plain": [
              "['18 Jul 2016',\n",
              " '25 Jul 2015',\n",
              " '11 Jun 1996',\n",
              " '21 Oct 1993',\n",
              " '2 Aug 2010',\n",
              " '01 Jan 1997']"
            ]
          },
          "metadata": {
            "tags": []
          },
          "execution_count": 17
        }
      ]
    },
    {
      "cell_type": "code",
      "metadata": {
        "id": "GMFHQ70fM1pF",
        "colab_type": "code",
        "colab": {
          "base_uri": "https://localhost:8080/",
          "height": 119
        },
        "outputId": "07e6e2ee-1d6d-419a-c4a7-f835ae5fe576"
      },
      "source": [
        "# Import the datetime module \n",
        "from datetime import datetime \n",
        "    \n",
        "# Function to print the data stored in the list  \n",
        "def printDates(dates):  \n",
        "   \n",
        "    for i in range(len(dates)):   \n",
        "        print(dates[i])  \n",
        "       \n",
        "       \n",
        "if __name__ == \"__main__\":   \n",
        "      \n",
        "    # Sort the list in ascending order of dates  \n",
        "    dates.sort(key = lambda date: datetime.strptime(date, '%d %b %Y')) \n",
        "    \n",
        "    # Print the dates in a sorted order  \n",
        "    printDates(dates)  "
      ],
      "execution_count": 18,
      "outputs": [
        {
          "output_type": "stream",
          "text": [
            "21 Oct 1993\n",
            "11 Jun 1996\n",
            "01 Jan 1997\n",
            "2 Aug 2010\n",
            "25 Jul 2015\n",
            "18 Jul 2016\n"
          ],
          "name": "stdout"
        }
      ]
    },
    {
      "cell_type": "code",
      "metadata": {
        "id": "RiOHCUWgNBWh",
        "colab_type": "code",
        "colab": {}
      },
      "source": [
        ""
      ],
      "execution_count": 0,
      "outputs": []
    }
  ]
}