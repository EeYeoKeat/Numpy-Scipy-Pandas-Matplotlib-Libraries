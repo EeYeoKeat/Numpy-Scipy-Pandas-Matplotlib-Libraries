{
  "nbformat": 4,
  "nbformat_minor": 0,
  "metadata": {
    "colab": {
      "name": "Intro_of_Numpy_part1.ipynb",
      "provenance": [],
      "collapsed_sections": []
    },
    "kernelspec": {
      "name": "python3",
      "display_name": "Python 3"
    }
  },
  "cells": [
    {
      "cell_type": "markdown",
      "metadata": {
        "id": "3pMY9Vpeo22j",
        "colab_type": "text"
      },
      "source": [
        "# Numpy Stack"
      ]
    },
    {
      "cell_type": "markdown",
      "metadata": {
        "id": "9gy6_IiuncLz",
        "colab_type": "text"
      },
      "source": [
        "NumPy is the fundamental package for scientific computing with Python and it able to handle a powerful N-dimensional array object.\n",
        "\n",
        "The central object in Numpy is the Numpy array, on which we can do various operations.\n",
        "\n",
        "The key is that a Numpy array isn’t just a regular array, but instead is like a mathematical object like a vector or a matrix. That means we can do vector and matrix operations like addition, subtraction, and multiplication."
      ]
    },
    {
      "cell_type": "markdown",
      "metadata": {
        "id": "uTbBZEcmtNs_",
        "colab_type": "text"
      },
      "source": [
        "# Operations"
      ]
    },
    {
      "cell_type": "code",
      "metadata": {
        "id": "khRGIZ-8cS44",
        "colab_type": "code",
        "colab": {}
      },
      "source": [
        "import numpy as np"
      ],
      "execution_count": 0,
      "outputs": []
    },
    {
      "cell_type": "markdown",
      "metadata": {
        "id": "HNoB31LHpMsW",
        "colab_type": "text"
      },
      "source": [
        "Initialize L as normal array"
      ]
    },
    {
      "cell_type": "code",
      "metadata": {
        "id": "Mh7JlkmZpEmp",
        "colab_type": "code",
        "colab": {}
      },
      "source": [
        "L = [1,2,3]"
      ],
      "execution_count": 0,
      "outputs": []
    },
    {
      "cell_type": "markdown",
      "metadata": {
        "id": "SsxsQz1XpRD2",
        "colab_type": "text"
      },
      "source": [
        "Initialize A as numpy array"
      ]
    },
    {
      "cell_type": "code",
      "metadata": {
        "id": "dvR_0CinpHRL",
        "colab_type": "code",
        "colab": {}
      },
      "source": [
        "A = np.array([1,2,3])"
      ],
      "execution_count": 0,
      "outputs": []
    },
    {
      "cell_type": "code",
      "metadata": {
        "id": "yQHj2_jOpLa-",
        "colab_type": "code",
        "colab": {
          "base_uri": "https://localhost:8080/",
          "height": 68
        },
        "outputId": "a76394bb-4699-4c5e-90fb-2e41b00adec6"
      },
      "source": [
        "# print out each of the elemnt in L\n",
        "for e in L:\n",
        "  print (e)"
      ],
      "execution_count": 4,
      "outputs": [
        {
          "output_type": "stream",
          "text": [
            "1\n",
            "2\n",
            "3\n"
          ],
          "name": "stdout"
        }
      ]
    },
    {
      "cell_type": "code",
      "metadata": {
        "id": "MvCKSnmxpbe1",
        "colab_type": "code",
        "colab": {
          "base_uri": "https://localhost:8080/",
          "height": 68
        },
        "outputId": "6d70c877-2ef1-44e8-82c8-77cb2294ae24"
      },
      "source": [
        "# print out each of the elemnt in L\n",
        "for e in A:\n",
        "  print (e)"
      ],
      "execution_count": 5,
      "outputs": [
        {
          "output_type": "stream",
          "text": [
            "1\n",
            "2\n",
            "3\n"
          ],
          "name": "stdout"
        }
      ]
    },
    {
      "cell_type": "markdown",
      "metadata": {
        "id": "UvE2WvnPpm0G",
        "colab_type": "text"
      },
      "source": [
        "Let's try append new number into array L"
      ]
    },
    {
      "cell_type": "code",
      "metadata": {
        "id": "sQZF1INgpfL2",
        "colab_type": "code",
        "colab": {
          "base_uri": "https://localhost:8080/",
          "height": 34
        },
        "outputId": "43c73106-8830-4ddf-a12e-c17ca48d22ad"
      },
      "source": [
        "L.append(4)\n",
        "L"
      ],
      "execution_count": 6,
      "outputs": [
        {
          "output_type": "execute_result",
          "data": {
            "text/plain": [
              "[1, 2, 3, 4]"
            ]
          },
          "metadata": {
            "tags": []
          },
          "execution_count": 6
        }
      ]
    },
    {
      "cell_type": "markdown",
      "metadata": {
        "id": "ajZpgMEppwzf",
        "colab_type": "text"
      },
      "source": [
        "It is work fine. Let's try on append numpy array"
      ]
    },
    {
      "cell_type": "code",
      "metadata": {
        "id": "TPPGEZTIpv7V",
        "colab_type": "code",
        "colab": {
          "base_uri": "https://localhost:8080/",
          "height": 163
        },
        "outputId": "ee467719-1cda-4053-8552-f3698486c418"
      },
      "source": [
        "A.append(4)"
      ],
      "execution_count": 7,
      "outputs": [
        {
          "output_type": "error",
          "ename": "AttributeError",
          "evalue": "ignored",
          "traceback": [
            "\u001b[0;31m---------------------------------------------------------------------------\u001b[0m",
            "\u001b[0;31mAttributeError\u001b[0m                            Traceback (most recent call last)",
            "\u001b[0;32m<ipython-input-7-a17c4d6940c3>\u001b[0m in \u001b[0;36m<module>\u001b[0;34m()\u001b[0m\n\u001b[0;32m----> 1\u001b[0;31m \u001b[0mA\u001b[0m\u001b[0;34m.\u001b[0m\u001b[0mappend\u001b[0m\u001b[0;34m(\u001b[0m\u001b[0;36m4\u001b[0m\u001b[0;34m)\u001b[0m\u001b[0;34m\u001b[0m\u001b[0;34m\u001b[0m\u001b[0m\n\u001b[0m",
            "\u001b[0;31mAttributeError\u001b[0m: 'numpy.ndarray' object has no attribute 'append'"
          ]
        }
      ]
    },
    {
      "cell_type": "markdown",
      "metadata": {
        "id": "n_nFPGfnqB9W",
        "colab_type": "text"
      },
      "source": [
        "Opps, seem like numpy array not allow to append directly as L"
      ]
    },
    {
      "cell_type": "code",
      "metadata": {
        "id": "m2lxUMxMqBSv",
        "colab_type": "code",
        "colab": {}
      },
      "source": [
        "L = L + [5]"
      ],
      "execution_count": 0,
      "outputs": []
    },
    {
      "cell_type": "code",
      "metadata": {
        "id": "s5a0iOXhqT2v",
        "colab_type": "code",
        "colab": {
          "base_uri": "https://localhost:8080/",
          "height": 34
        },
        "outputId": "4cf57409-6d65-459b-943e-ad7f4404a8b1"
      },
      "source": [
        "L"
      ],
      "execution_count": 9,
      "outputs": [
        {
          "output_type": "execute_result",
          "data": {
            "text/plain": [
              "[1, 2, 3, 4, 5]"
            ]
          },
          "metadata": {
            "tags": []
          },
          "execution_count": 9
        }
      ]
    },
    {
      "cell_type": "code",
      "metadata": {
        "id": "J-qMXGnlqVZb",
        "colab_type": "code",
        "colab": {
          "base_uri": "https://localhost:8080/",
          "height": 163
        },
        "outputId": "e97915e0-3161-4cea-c8fc-0d6dd3600f41"
      },
      "source": [
        "A = A + [4,5]"
      ],
      "execution_count": 10,
      "outputs": [
        {
          "output_type": "error",
          "ename": "ValueError",
          "evalue": "ignored",
          "traceback": [
            "\u001b[0;31m---------------------------------------------------------------------------\u001b[0m",
            "\u001b[0;31mValueError\u001b[0m                                Traceback (most recent call last)",
            "\u001b[0;32m<ipython-input-10-6ccf893548dc>\u001b[0m in \u001b[0;36m<module>\u001b[0;34m()\u001b[0m\n\u001b[0;32m----> 1\u001b[0;31m \u001b[0mA\u001b[0m \u001b[0;34m=\u001b[0m \u001b[0mA\u001b[0m \u001b[0;34m+\u001b[0m \u001b[0;34m[\u001b[0m\u001b[0;36m4\u001b[0m\u001b[0;34m,\u001b[0m\u001b[0;36m5\u001b[0m\u001b[0;34m]\u001b[0m\u001b[0;34m\u001b[0m\u001b[0;34m\u001b[0m\u001b[0m\n\u001b[0m",
            "\u001b[0;31mValueError\u001b[0m: operands could not be broadcast together with shapes (3,) (2,) "
          ]
        }
      ]
    },
    {
      "cell_type": "code",
      "metadata": {
        "id": "MrVboeyTqYWd",
        "colab_type": "code",
        "colab": {
          "base_uri": "https://localhost:8080/",
          "height": 34
        },
        "outputId": "79a447c5-b179-49df-b201-db17f4159b5a"
      },
      "source": [
        "L2 = []\n",
        "for e in L:\n",
        "  L2.append(e+e)\n",
        "\n",
        "L2"
      ],
      "execution_count": 11,
      "outputs": [
        {
          "output_type": "execute_result",
          "data": {
            "text/plain": [
              "[2, 4, 6, 8, 10]"
            ]
          },
          "metadata": {
            "tags": []
          },
          "execution_count": 11
        }
      ]
    },
    {
      "cell_type": "code",
      "metadata": {
        "id": "BeRRyIEVqq9w",
        "colab_type": "code",
        "colab": {
          "base_uri": "https://localhost:8080/",
          "height": 34
        },
        "outputId": "fbc6f33e-dc50-4ba4-d894-2c99b08f2bf8"
      },
      "source": [
        "A + A"
      ],
      "execution_count": 12,
      "outputs": [
        {
          "output_type": "execute_result",
          "data": {
            "text/plain": [
              "array([2, 4, 6])"
            ]
          },
          "metadata": {
            "tags": []
          },
          "execution_count": 12
        }
      ]
    },
    {
      "cell_type": "code",
      "metadata": {
        "id": "9Od9hpltq2Ok",
        "colab_type": "code",
        "colab": {
          "base_uri": "https://localhost:8080/",
          "height": 34
        },
        "outputId": "913f2c57-ef5b-4fb2-8448-705be0ddf9b2"
      },
      "source": [
        "2*A"
      ],
      "execution_count": 13,
      "outputs": [
        {
          "output_type": "execute_result",
          "data": {
            "text/plain": [
              "array([2, 4, 6])"
            ]
          },
          "metadata": {
            "tags": []
          },
          "execution_count": 13
        }
      ]
    },
    {
      "cell_type": "markdown",
      "metadata": {
        "id": "iCg-y2muq95l",
        "colab_type": "text"
      },
      "source": [
        "When sum up or multiplication of numpy array, it has no issue. Let's try multiply the L array."
      ]
    },
    {
      "cell_type": "code",
      "metadata": {
        "id": "WYtKAH9jq7d1",
        "colab_type": "code",
        "colab": {
          "base_uri": "https://localhost:8080/",
          "height": 34
        },
        "outputId": "bdcb7d31-0587-4759-e3ca-b1c2659fa3ec"
      },
      "source": [
        "2*L"
      ],
      "execution_count": 14,
      "outputs": [
        {
          "output_type": "execute_result",
          "data": {
            "text/plain": [
              "[1, 2, 3, 4, 5, 1, 2, 3, 4, 5]"
            ]
          },
          "metadata": {
            "tags": []
          },
          "execution_count": 14
        }
      ]
    },
    {
      "cell_type": "markdown",
      "metadata": {
        "id": "zBTsaZtSrMuZ",
        "colab_type": "text"
      },
      "source": [
        "Seem like the array extend by double up the length"
      ]
    },
    {
      "cell_type": "code",
      "metadata": {
        "id": "QNU4JXuSrMGR",
        "colab_type": "code",
        "colab": {
          "base_uri": "https://localhost:8080/",
          "height": 34
        },
        "outputId": "1ff26d9b-a1a4-48b6-8286-13640e5b2da9"
      },
      "source": [
        "L2 = []\n",
        "for e in L:\n",
        "  L2.append(e*e)\n",
        "\n",
        "L2"
      ],
      "execution_count": 15,
      "outputs": [
        {
          "output_type": "execute_result",
          "data": {
            "text/plain": [
              "[1, 4, 9, 16, 25]"
            ]
          },
          "metadata": {
            "tags": []
          },
          "execution_count": 15
        }
      ]
    },
    {
      "cell_type": "code",
      "metadata": {
        "id": "m09pBrFnrc-_",
        "colab_type": "code",
        "colab": {
          "base_uri": "https://localhost:8080/",
          "height": 34
        },
        "outputId": "9810b519-16ef-4e0d-c9ed-6d9b50ffc5f2"
      },
      "source": [
        "A**2"
      ],
      "execution_count": 16,
      "outputs": [
        {
          "output_type": "execute_result",
          "data": {
            "text/plain": [
              "array([1, 4, 9])"
            ]
          },
          "metadata": {
            "tags": []
          },
          "execution_count": 16
        }
      ]
    },
    {
      "cell_type": "code",
      "metadata": {
        "id": "OlVnlvYWrgow",
        "colab_type": "code",
        "colab": {
          "base_uri": "https://localhost:8080/",
          "height": 51
        },
        "outputId": "d9b13e69-216d-473e-f8d6-e97e545d0f00"
      },
      "source": [
        "print(\"Square root of values in A:\")\n",
        "np.sqrt(A)"
      ],
      "execution_count": 18,
      "outputs": [
        {
          "output_type": "stream",
          "text": [
            "Square root of values in A:\n"
          ],
          "name": "stdout"
        },
        {
          "output_type": "execute_result",
          "data": {
            "text/plain": [
              "array([1.        , 1.41421356, 1.73205081])"
            ]
          },
          "metadata": {
            "tags": []
          },
          "execution_count": 18
        }
      ]
    },
    {
      "cell_type": "code",
      "metadata": {
        "id": "-OfYgbnqsC7C",
        "colab_type": "code",
        "colab": {
          "base_uri": "https://localhost:8080/",
          "height": 51
        },
        "outputId": "94324612-5a3a-4865-8f79-2dbd4204f4a2"
      },
      "source": [
        "print(\"Square root of values in L:\")\n",
        "np.sqrt(L)"
      ],
      "execution_count": 19,
      "outputs": [
        {
          "output_type": "stream",
          "text": [
            "Square root of values in L:\n"
          ],
          "name": "stdout"
        },
        {
          "output_type": "execute_result",
          "data": {
            "text/plain": [
              "array([1.        , 1.41421356, 1.73205081, 2.        , 2.23606798])"
            ]
          },
          "metadata": {
            "tags": []
          },
          "execution_count": 19
        }
      ]
    },
    {
      "cell_type": "code",
      "metadata": {
        "id": "gdan-chIsSY2",
        "colab_type": "code",
        "colab": {
          "base_uri": "https://localhost:8080/",
          "height": 34
        },
        "outputId": "8fab3c5f-5f05-4754-e6fc-6008490a2262"
      },
      "source": [
        "L"
      ],
      "execution_count": 20,
      "outputs": [
        {
          "output_type": "execute_result",
          "data": {
            "text/plain": [
              "[1, 2, 3, 4, 5]"
            ]
          },
          "metadata": {
            "tags": []
          },
          "execution_count": 20
        }
      ]
    },
    {
      "cell_type": "code",
      "metadata": {
        "id": "gPC5HFuosU8p",
        "colab_type": "code",
        "colab": {
          "base_uri": "https://localhost:8080/",
          "height": 51
        },
        "outputId": "abf8b94a-30fe-4905-90eb-f054b1c38d7e"
      },
      "source": [
        "print(\"Log values in A:\")\n",
        "np.log(A)"
      ],
      "execution_count": 21,
      "outputs": [
        {
          "output_type": "stream",
          "text": [
            "Log values in A:\n"
          ],
          "name": "stdout"
        },
        {
          "output_type": "execute_result",
          "data": {
            "text/plain": [
              "array([0.        , 0.69314718, 1.09861229])"
            ]
          },
          "metadata": {
            "tags": []
          },
          "execution_count": 21
        }
      ]
    },
    {
      "cell_type": "code",
      "metadata": {
        "id": "O2I7WURcsfdX",
        "colab_type": "code",
        "colab": {
          "base_uri": "https://localhost:8080/",
          "height": 51
        },
        "outputId": "ed062c90-7320-4d19-86bb-0c749229a66d"
      },
      "source": [
        "print(\"Log values in L:\")\n",
        "np.log(L)"
      ],
      "execution_count": 22,
      "outputs": [
        {
          "output_type": "stream",
          "text": [
            "Log values in L:\n"
          ],
          "name": "stdout"
        },
        {
          "output_type": "execute_result",
          "data": {
            "text/plain": [
              "array([0.        , 0.69314718, 1.09861229, 1.38629436, 1.60943791])"
            ]
          },
          "metadata": {
            "tags": []
          },
          "execution_count": 22
        }
      ]
    },
    {
      "cell_type": "code",
      "metadata": {
        "id": "rfnnXSImsh-v",
        "colab_type": "code",
        "colab": {
          "base_uri": "https://localhost:8080/",
          "height": 51
        },
        "outputId": "005ea8c6-2669-47e8-b381-86c3d6e75b8a"
      },
      "source": [
        "print(\"Exponential values in A:\")\n",
        "np.exp(A)"
      ],
      "execution_count": 23,
      "outputs": [
        {
          "output_type": "stream",
          "text": [
            "Exponential values in A:\n"
          ],
          "name": "stdout"
        },
        {
          "output_type": "execute_result",
          "data": {
            "text/plain": [
              "array([ 2.71828183,  7.3890561 , 20.08553692])"
            ]
          },
          "metadata": {
            "tags": []
          },
          "execution_count": 23
        }
      ]
    },
    {
      "cell_type": "code",
      "metadata": {
        "id": "ANQqIjICspXY",
        "colab_type": "code",
        "colab": {
          "base_uri": "https://localhost:8080/",
          "height": 68
        },
        "outputId": "75672776-a722-418d-ad89-6b250ff9807b"
      },
      "source": [
        "print(\"Exponential values in L:\")\n",
        "np.exp(L)"
      ],
      "execution_count": 24,
      "outputs": [
        {
          "output_type": "stream",
          "text": [
            "Exponential values in L:\n"
          ],
          "name": "stdout"
        },
        {
          "output_type": "execute_result",
          "data": {
            "text/plain": [
              "array([  2.71828183,   7.3890561 ,  20.08553692,  54.59815003,\n",
              "       148.4131591 ])"
            ]
          },
          "metadata": {
            "tags": []
          },
          "execution_count": 24
        }
      ]
    },
    {
      "cell_type": "markdown",
      "metadata": {
        "id": "WUrgPWqRtR9R",
        "colab_type": "text"
      },
      "source": [
        "# Zip in python"
      ]
    },
    {
      "cell_type": "markdown",
      "metadata": {
        "id": "k_qXP2-VtWvt",
        "colab_type": "text"
      },
      "source": [
        "Zip functions is to join two tuples together:"
      ]
    },
    {
      "cell_type": "code",
      "metadata": {
        "id": "6BNgYlZ-ss-D",
        "colab_type": "code",
        "colab": {
          "base_uri": "https://localhost:8080/",
          "height": 34
        },
        "outputId": "f8509fe2-66a0-4445-c2dd-c683720a6abb"
      },
      "source": [
        "a = (\"John\", \"Charles\", \"Mike\")\n",
        "b = (\"Jenny\", \"Christy\", \"Monica\")\n",
        "\n",
        "x = zip(a, b)\n",
        "\n",
        "#use the tuple() function to display a readable version of the result:\n",
        "\n",
        "print(tuple(x))"
      ],
      "execution_count": 25,
      "outputs": [
        {
          "output_type": "stream",
          "text": [
            "(('John', 'Jenny'), ('Charles', 'Christy'), ('Mike', 'Monica'))\n"
          ],
          "name": "stdout"
        }
      ]
    },
    {
      "cell_type": "markdown",
      "metadata": {
        "id": "wwLJnHzBtktY",
        "colab_type": "text"
      },
      "source": [
        "If one tuple contains more items, these items are ignored:"
      ]
    },
    {
      "cell_type": "code",
      "metadata": {
        "id": "SQPlgwmntcxd",
        "colab_type": "code",
        "colab": {
          "base_uri": "https://localhost:8080/",
          "height": 34
        },
        "outputId": "48301906-22c8-48fc-9ffb-055b743934f4"
      },
      "source": [
        "a = (\"John\", \"Charles\", \"Mike\")\n",
        "b = (\"Jenny\", \"Christy\", \"Monica\", \"Vicky\")\n",
        "\n",
        "x = zip(a, b)\n",
        "\n",
        "#use the tuple() function to display a readable version of the result:\n",
        "\n",
        "print(tuple(x))\n"
      ],
      "execution_count": 26,
      "outputs": [
        {
          "output_type": "stream",
          "text": [
            "(('John', 'Jenny'), ('Charles', 'Christy'), ('Mike', 'Monica'))\n"
          ],
          "name": "stdout"
        }
      ]
    },
    {
      "cell_type": "code",
      "metadata": {
        "id": "jE9xIQhFtopw",
        "colab_type": "code",
        "colab": {}
      },
      "source": [
        "a = np.array([1,2])\n",
        "b = np.array([2,1])"
      ],
      "execution_count": 0,
      "outputs": []
    },
    {
      "cell_type": "code",
      "metadata": {
        "id": "8hVdcyLGv9RM",
        "colab_type": "code",
        "colab": {}
      },
      "source": [
        "dot = 0"
      ],
      "execution_count": 0,
      "outputs": []
    },
    {
      "cell_type": "code",
      "metadata": {
        "id": "Qjkj7ihVv_Bc",
        "colab_type": "code",
        "colab": {}
      },
      "source": [
        "for e, f in zip(a,b):\n",
        "  dot += e*f"
      ],
      "execution_count": 0,
      "outputs": []
    },
    {
      "cell_type": "code",
      "metadata": {
        "id": "2FZeFDBTwGBw",
        "colab_type": "code",
        "colab": {
          "base_uri": "https://localhost:8080/",
          "height": 34
        },
        "outputId": "1f702f5c-6816-4fc9-cb42-fb4abb1bf988"
      },
      "source": [
        "dot"
      ],
      "execution_count": 30,
      "outputs": [
        {
          "output_type": "execute_result",
          "data": {
            "text/plain": [
              "4"
            ]
          },
          "metadata": {
            "tags": []
          },
          "execution_count": 30
        }
      ]
    },
    {
      "cell_type": "code",
      "metadata": {
        "id": "qLR-vVhBwIUJ",
        "colab_type": "code",
        "colab": {
          "base_uri": "https://localhost:8080/",
          "height": 34
        },
        "outputId": "10c3f2e0-c8c6-49d1-a10f-f24ae781cb2a"
      },
      "source": [
        "a*b"
      ],
      "execution_count": 31,
      "outputs": [
        {
          "output_type": "execute_result",
          "data": {
            "text/plain": [
              "array([2, 2])"
            ]
          },
          "metadata": {
            "tags": []
          },
          "execution_count": 31
        }
      ]
    },
    {
      "cell_type": "code",
      "metadata": {
        "id": "0UlZPeYhwMil",
        "colab_type": "code",
        "colab": {
          "base_uri": "https://localhost:8080/",
          "height": 34
        },
        "outputId": "338b875e-6d70-4e1c-b4fe-ea395dc7b48e"
      },
      "source": [
        "np.sum(a*b)"
      ],
      "execution_count": 32,
      "outputs": [
        {
          "output_type": "execute_result",
          "data": {
            "text/plain": [
              "4"
            ]
          },
          "metadata": {
            "tags": []
          },
          "execution_count": 32
        }
      ]
    },
    {
      "cell_type": "code",
      "metadata": {
        "id": "hNkWF1Fgy8gs",
        "colab_type": "code",
        "colab": {
          "base_uri": "https://localhost:8080/",
          "height": 34
        },
        "outputId": "7ac08580-3dc5-4b4e-d80c-9106b3e10fad"
      },
      "source": [
        "(a*b).sum()"
      ],
      "execution_count": 33,
      "outputs": [
        {
          "output_type": "execute_result",
          "data": {
            "text/plain": [
              "4"
            ]
          },
          "metadata": {
            "tags": []
          },
          "execution_count": 33
        }
      ]
    },
    {
      "cell_type": "code",
      "metadata": {
        "id": "6vho8h5jy_8y",
        "colab_type": "code",
        "colab": {
          "base_uri": "https://localhost:8080/",
          "height": 34
        },
        "outputId": "74c384a7-1298-46a5-ffaa-68d65dbee280"
      },
      "source": [
        "np.dot(a,b)"
      ],
      "execution_count": 34,
      "outputs": [
        {
          "output_type": "execute_result",
          "data": {
            "text/plain": [
              "4"
            ]
          },
          "metadata": {
            "tags": []
          },
          "execution_count": 34
        }
      ]
    },
    {
      "cell_type": "code",
      "metadata": {
        "id": "cMsaqZCDzCbG",
        "colab_type": "code",
        "colab": {
          "base_uri": "https://localhost:8080/",
          "height": 34
        },
        "outputId": "7c4487ba-fcf2-4859-82d1-2fb57ee9acd3"
      },
      "source": [
        "a.dot(b)"
      ],
      "execution_count": 35,
      "outputs": [
        {
          "output_type": "execute_result",
          "data": {
            "text/plain": [
              "4"
            ]
          },
          "metadata": {
            "tags": []
          },
          "execution_count": 35
        }
      ]
    },
    {
      "cell_type": "code",
      "metadata": {
        "id": "RbfBlDpgzEji",
        "colab_type": "code",
        "colab": {
          "base_uri": "https://localhost:8080/",
          "height": 34
        },
        "outputId": "40f1d410-b5fa-423d-968c-0a31b6ceab9b"
      },
      "source": [
        "b.dot(a)"
      ],
      "execution_count": 36,
      "outputs": [
        {
          "output_type": "execute_result",
          "data": {
            "text/plain": [
              "4"
            ]
          },
          "metadata": {
            "tags": []
          },
          "execution_count": 36
        }
      ]
    },
    {
      "cell_type": "code",
      "metadata": {
        "id": "Ur2jcJOIzFep",
        "colab_type": "code",
        "colab": {
          "base_uri": "https://localhost:8080/",
          "height": 34
        },
        "outputId": "a755fdf8-7f0f-41dd-e980-fd24adfcfd17"
      },
      "source": [
        "agm = np.sqrt((a*a).sum())\n",
        "agm"
      ],
      "execution_count": 38,
      "outputs": [
        {
          "output_type": "execute_result",
          "data": {
            "text/plain": [
              "2.23606797749979"
            ]
          },
          "metadata": {
            "tags": []
          },
          "execution_count": 38
        }
      ]
    },
    {
      "cell_type": "code",
      "metadata": {
        "id": "HHi7sFDtzVBB",
        "colab_type": "code",
        "colab": {}
      },
      "source": [
        "amg = np.linalg.norm(a)"
      ],
      "execution_count": 0,
      "outputs": []
    },
    {
      "cell_type": "code",
      "metadata": {
        "id": "gRGuaB0Rzgn5",
        "colab_type": "code",
        "colab": {
          "base_uri": "https://localhost:8080/",
          "height": 34
        },
        "outputId": "beeb1642-5686-47f7-8802-81d0593709d2"
      },
      "source": [
        "amg"
      ],
      "execution_count": 40,
      "outputs": [
        {
          "output_type": "execute_result",
          "data": {
            "text/plain": [
              "2.23606797749979"
            ]
          },
          "metadata": {
            "tags": []
          },
          "execution_count": 40
        }
      ]
    },
    {
      "cell_type": "code",
      "metadata": {
        "id": "5R4aImUvzh4B",
        "colab_type": "code",
        "colab": {
          "base_uri": "https://localhost:8080/",
          "height": 34
        },
        "outputId": "ed387432-d950-48c5-a209-952adb8a1534"
      },
      "source": [
        "cosangle = a.dot(b) / (np.linalg.norm(a) * np.linalg.norm(b))\n",
        "cosangle"
      ],
      "execution_count": 44,
      "outputs": [
        {
          "output_type": "execute_result",
          "data": {
            "text/plain": [
              "0.7999999999999998"
            ]
          },
          "metadata": {
            "tags": []
          },
          "execution_count": 44
        }
      ]
    },
    {
      "cell_type": "code",
      "metadata": {
        "id": "8rXg5mpLzsGI",
        "colab_type": "code",
        "colab": {}
      },
      "source": [
        "angle = np.arccos(cosangle)"
      ],
      "execution_count": 0,
      "outputs": []
    },
    {
      "cell_type": "code",
      "metadata": {
        "id": "4eRDAQeC0NIl",
        "colab_type": "code",
        "colab": {
          "base_uri": "https://localhost:8080/",
          "height": 34
        },
        "outputId": "e7de1dd0-b55b-48ec-d33f-6f4f2c1bc652"
      },
      "source": [
        "angle"
      ],
      "execution_count": 46,
      "outputs": [
        {
          "output_type": "execute_result",
          "data": {
            "text/plain": [
              "0.6435011087932847"
            ]
          },
          "metadata": {
            "tags": []
          },
          "execution_count": 46
        }
      ]
    },
    {
      "cell_type": "markdown",
      "metadata": {
        "id": "gyMNT9VI0Qg6",
        "colab_type": "text"
      },
      "source": [
        "# Speed comparison"
      ]
    },
    {
      "cell_type": "code",
      "metadata": {
        "id": "Wk4O_ORK0N3Z",
        "colab_type": "code",
        "colab": {
          "base_uri": "https://localhost:8080/",
          "height": 34
        },
        "outputId": "98905ec6-ecfc-4c0c-e283-c8c411a4410a"
      },
      "source": [
        "from __future__ import print_function, division\n",
        "from builtins import range\n",
        "# Note: you may need to update your version of future\n",
        "# sudo pip install -U future\n",
        "\n",
        "\n",
        "import numpy as np\n",
        "from datetime import datetime\n",
        "\n",
        "a = np.random.randn(100)\n",
        "b = np.random.randn(100)\n",
        "T = 100000\n",
        "\n",
        "def slow_dot_product(a, b):\n",
        "  result = 0\n",
        "  for e, f in zip(a, b):\n",
        "    result += e*f\n",
        "  return result\n",
        "\n",
        "t0 = datetime.now()\n",
        "for t in range(T):\n",
        "  slow_dot_product(a, b)\n",
        "dt1 = datetime.now() - t0\n",
        "\n",
        "t0 = datetime.now()\n",
        "for t in range(T):\n",
        "  a.dot(b)\n",
        "dt2 = datetime.now() - t0\n",
        "\n",
        "print(\"dt1 / dt2:\", dt1.total_seconds() / dt2.total_seconds())"
      ],
      "execution_count": 47,
      "outputs": [
        {
          "output_type": "stream",
          "text": [
            "dt1 / dt2: 65.1604509090909\n"
          ],
          "name": "stdout"
        }
      ]
    },
    {
      "cell_type": "markdown",
      "metadata": {
        "id": "DumK0gxR1LTa",
        "colab_type": "text"
      },
      "source": [
        "# Matrix and Vector"
      ]
    },
    {
      "cell_type": "code",
      "metadata": {
        "id": "F7T-U7V80uFZ",
        "colab_type": "code",
        "colab": {}
      },
      "source": [
        "M = np.array([[1,2],[3,4]])\n",
        "L = [[1,2],[3,4]]"
      ],
      "execution_count": 0,
      "outputs": []
    },
    {
      "cell_type": "code",
      "metadata": {
        "id": "u8SxmDlb1X7D",
        "colab_type": "code",
        "colab": {
          "base_uri": "https://localhost:8080/",
          "height": 34
        },
        "outputId": "977525ff-2785-413f-b7e7-beaa08e9f9fa"
      },
      "source": [
        "L[0]"
      ],
      "execution_count": 49,
      "outputs": [
        {
          "output_type": "execute_result",
          "data": {
            "text/plain": [
              "[1, 2]"
            ]
          },
          "metadata": {
            "tags": []
          },
          "execution_count": 49
        }
      ]
    },
    {
      "cell_type": "code",
      "metadata": {
        "id": "qNM4cxsW1Z74",
        "colab_type": "code",
        "colab": {
          "base_uri": "https://localhost:8080/",
          "height": 34
        },
        "outputId": "c30a044a-3655-4e07-b6ea-1ec3339d1933"
      },
      "source": [
        "L[0][0]"
      ],
      "execution_count": 50,
      "outputs": [
        {
          "output_type": "execute_result",
          "data": {
            "text/plain": [
              "1"
            ]
          },
          "metadata": {
            "tags": []
          },
          "execution_count": 50
        }
      ]
    },
    {
      "cell_type": "code",
      "metadata": {
        "id": "XwjrqaBF1die",
        "colab_type": "code",
        "colab": {
          "base_uri": "https://localhost:8080/",
          "height": 34
        },
        "outputId": "afe5a9c6-7130-4ec5-98dd-15224daac1fa"
      },
      "source": [
        "M[0][0]"
      ],
      "execution_count": 51,
      "outputs": [
        {
          "output_type": "execute_result",
          "data": {
            "text/plain": [
              "1"
            ]
          },
          "metadata": {
            "tags": []
          },
          "execution_count": 51
        }
      ]
    },
    {
      "cell_type": "code",
      "metadata": {
        "id": "yX2mF7sv1fFB",
        "colab_type": "code",
        "colab": {}
      },
      "source": [
        "M2 = np.matrix(L)"
      ],
      "execution_count": 0,
      "outputs": []
    },
    {
      "cell_type": "code",
      "metadata": {
        "id": "K3nPQHMd1kr7",
        "colab_type": "code",
        "colab": {
          "base_uri": "https://localhost:8080/",
          "height": 51
        },
        "outputId": "81cc17e1-5b68-4163-a73a-4f83084812d8"
      },
      "source": [
        "M2"
      ],
      "execution_count": 53,
      "outputs": [
        {
          "output_type": "execute_result",
          "data": {
            "text/plain": [
              "matrix([[1, 2],\n",
              "        [3, 4]])"
            ]
          },
          "metadata": {
            "tags": []
          },
          "execution_count": 53
        }
      ]
    },
    {
      "cell_type": "code",
      "metadata": {
        "id": "nUV3kPGJ1lqv",
        "colab_type": "code",
        "colab": {}
      },
      "source": [
        "A = np.array(M2)"
      ],
      "execution_count": 0,
      "outputs": []
    },
    {
      "cell_type": "code",
      "metadata": {
        "id": "8AF1zVZ41tib",
        "colab_type": "code",
        "colab": {
          "base_uri": "https://localhost:8080/",
          "height": 51
        },
        "outputId": "e87f76c4-812d-4dfe-90e1-00a8bbcec25b"
      },
      "source": [
        "A"
      ],
      "execution_count": 55,
      "outputs": [
        {
          "output_type": "execute_result",
          "data": {
            "text/plain": [
              "array([[1, 2],\n",
              "       [3, 4]])"
            ]
          },
          "metadata": {
            "tags": []
          },
          "execution_count": 55
        }
      ]
    },
    {
      "cell_type": "code",
      "metadata": {
        "id": "MB03jpEf1uVc",
        "colab_type": "code",
        "colab": {
          "base_uri": "https://localhost:8080/",
          "height": 51
        },
        "outputId": "e6ba2c17-9ab0-470a-88b7-db221a0f25b5"
      },
      "source": [
        "A.T"
      ],
      "execution_count": 56,
      "outputs": [
        {
          "output_type": "execute_result",
          "data": {
            "text/plain": [
              "array([[1, 3],\n",
              "       [2, 4]])"
            ]
          },
          "metadata": {
            "tags": []
          },
          "execution_count": 56
        }
      ]
    },
    {
      "cell_type": "markdown",
      "metadata": {
        "id": "7Ms1yLEb3SPB",
        "colab_type": "text"
      },
      "source": [
        "# Initialize Metrices"
      ]
    },
    {
      "cell_type": "code",
      "metadata": {
        "id": "mDj6cMxd1xwv",
        "colab_type": "code",
        "colab": {
          "base_uri": "https://localhost:8080/",
          "height": 34
        },
        "outputId": "049b3627-d99d-4e7b-eacb-be1f5ef664bb"
      },
      "source": [
        "np.array([1,2,3])"
      ],
      "execution_count": 57,
      "outputs": [
        {
          "output_type": "execute_result",
          "data": {
            "text/plain": [
              "array([1, 2, 3])"
            ]
          },
          "metadata": {
            "tags": []
          },
          "execution_count": 57
        }
      ]
    },
    {
      "cell_type": "code",
      "metadata": {
        "id": "7uxdOUMY3X5V",
        "colab_type": "code",
        "colab": {
          "base_uri": "https://localhost:8080/",
          "height": 34
        },
        "outputId": "1adfda5e-d2f0-4677-8664-6d6f3138124f"
      },
      "source": [
        "z = np.zeros(10)\n",
        "z"
      ],
      "execution_count": 58,
      "outputs": [
        {
          "output_type": "execute_result",
          "data": {
            "text/plain": [
              "array([0., 0., 0., 0., 0., 0., 0., 0., 0., 0.])"
            ]
          },
          "metadata": {
            "tags": []
          },
          "execution_count": 58
        }
      ]
    },
    {
      "cell_type": "code",
      "metadata": {
        "id": "BA5OD-uJ3bhL",
        "colab_type": "code",
        "colab": {}
      },
      "source": [
        "z = np.zeros((10,10))"
      ],
      "execution_count": 0,
      "outputs": []
    },
    {
      "cell_type": "code",
      "metadata": {
        "id": "8qS2L0Ns3e90",
        "colab_type": "code",
        "colab": {
          "base_uri": "https://localhost:8080/",
          "height": 187
        },
        "outputId": "61977d6a-abf2-443d-fc84-2217c2aef3f2"
      },
      "source": [
        "z"
      ],
      "execution_count": 61,
      "outputs": [
        {
          "output_type": "execute_result",
          "data": {
            "text/plain": [
              "array([[0., 0., 0., 0., 0., 0., 0., 0., 0., 0.],\n",
              "       [0., 0., 0., 0., 0., 0., 0., 0., 0., 0.],\n",
              "       [0., 0., 0., 0., 0., 0., 0., 0., 0., 0.],\n",
              "       [0., 0., 0., 0., 0., 0., 0., 0., 0., 0.],\n",
              "       [0., 0., 0., 0., 0., 0., 0., 0., 0., 0.],\n",
              "       [0., 0., 0., 0., 0., 0., 0., 0., 0., 0.],\n",
              "       [0., 0., 0., 0., 0., 0., 0., 0., 0., 0.],\n",
              "       [0., 0., 0., 0., 0., 0., 0., 0., 0., 0.],\n",
              "       [0., 0., 0., 0., 0., 0., 0., 0., 0., 0.],\n",
              "       [0., 0., 0., 0., 0., 0., 0., 0., 0., 0.]])"
            ]
          },
          "metadata": {
            "tags": []
          },
          "execution_count": 61
        }
      ]
    },
    {
      "cell_type": "code",
      "metadata": {
        "id": "Odaef6_p3g5n",
        "colab_type": "code",
        "colab": {
          "base_uri": "https://localhost:8080/",
          "height": 187
        },
        "outputId": "584e0015-e1e5-4b4a-bb3e-5b2fba1008de"
      },
      "source": [
        "one = np.ones((10,10))\n",
        "one"
      ],
      "execution_count": 62,
      "outputs": [
        {
          "output_type": "execute_result",
          "data": {
            "text/plain": [
              "array([[1., 1., 1., 1., 1., 1., 1., 1., 1., 1.],\n",
              "       [1., 1., 1., 1., 1., 1., 1., 1., 1., 1.],\n",
              "       [1., 1., 1., 1., 1., 1., 1., 1., 1., 1.],\n",
              "       [1., 1., 1., 1., 1., 1., 1., 1., 1., 1.],\n",
              "       [1., 1., 1., 1., 1., 1., 1., 1., 1., 1.],\n",
              "       [1., 1., 1., 1., 1., 1., 1., 1., 1., 1.],\n",
              "       [1., 1., 1., 1., 1., 1., 1., 1., 1., 1.],\n",
              "       [1., 1., 1., 1., 1., 1., 1., 1., 1., 1.],\n",
              "       [1., 1., 1., 1., 1., 1., 1., 1., 1., 1.],\n",
              "       [1., 1., 1., 1., 1., 1., 1., 1., 1., 1.]])"
            ]
          },
          "metadata": {
            "tags": []
          },
          "execution_count": 62
        }
      ]
    },
    {
      "cell_type": "code",
      "metadata": {
        "id": "6g6MMkCS3uuM",
        "colab_type": "code",
        "colab": {}
      },
      "source": [
        "r = np.random.random((10,10))"
      ],
      "execution_count": 0,
      "outputs": []
    },
    {
      "cell_type": "code",
      "metadata": {
        "id": "iyyXWgZ_32Of",
        "colab_type": "code",
        "colab": {
          "base_uri": "https://localhost:8080/",
          "height": 357
        },
        "outputId": "08e280f3-9e7f-4776-bf61-ef1e8b92cb3c"
      },
      "source": [
        "r"
      ],
      "execution_count": 67,
      "outputs": [
        {
          "output_type": "execute_result",
          "data": {
            "text/plain": [
              "array([[0.29885098, 0.20376018, 0.27309967, 0.61483819, 0.44983985,\n",
              "        0.54615373, 0.10916485, 0.96048636, 0.01977314, 0.2922642 ],\n",
              "       [0.08870025, 0.32547313, 0.97215571, 0.4417257 , 0.5695931 ,\n",
              "        0.39243494, 0.94877104, 0.72154966, 0.61877844, 0.88566723],\n",
              "       [0.67513005, 0.00915647, 0.64621003, 0.03170277, 0.57446178,\n",
              "        0.75634598, 0.88438826, 0.83286712, 0.55549121, 0.54348224],\n",
              "       [0.91602347, 0.87688267, 0.07556213, 0.55013508, 0.65860905,\n",
              "        0.87047723, 0.50052959, 0.82116386, 0.63333981, 0.89172608],\n",
              "       [0.11419815, 0.98163037, 0.27859534, 0.01621063, 0.23164452,\n",
              "        0.26028294, 0.96101131, 0.70548196, 0.73055312, 0.81550041],\n",
              "       [0.26172325, 0.75683186, 0.23659551, 0.63992367, 0.01222234,\n",
              "        0.10413971, 0.91605592, 0.26034473, 0.36381233, 0.95477311],\n",
              "       [0.88366379, 0.4132522 , 0.82023312, 0.81126203, 0.6237857 ,\n",
              "        0.44119058, 0.4479354 , 0.71841618, 0.04993503, 0.80658834],\n",
              "       [0.40093006, 0.94016165, 0.84732469, 0.33525295, 0.20005334,\n",
              "        0.71699385, 0.10660869, 0.66480898, 0.47086239, 0.2655109 ],\n",
              "       [0.11090526, 0.8323581 , 0.43781823, 0.62851041, 0.72618232,\n",
              "        0.71949762, 0.64005465, 0.43924314, 0.16024046, 0.3410521 ],\n",
              "       [0.78843984, 0.76633249, 0.25937885, 0.20276709, 0.93177404,\n",
              "        0.51426468, 0.03517803, 0.93360637, 0.38279734, 0.00383607]])"
            ]
          },
          "metadata": {
            "tags": []
          },
          "execution_count": 67
        }
      ]
    },
    {
      "cell_type": "code",
      "metadata": {
        "id": "NEf6og4G4LMy",
        "colab_type": "code",
        "colab": {}
      },
      "source": [
        "# Return a sample (or samples) from the “standard normal” distribution. 0 to 1\n",
        "d = np.random.randn(10,10)"
      ],
      "execution_count": 0,
      "outputs": []
    },
    {
      "cell_type": "code",
      "metadata": {
        "id": "A3P2Fgzx49EO",
        "colab_type": "code",
        "colab": {
          "base_uri": "https://localhost:8080/",
          "height": 357
        },
        "outputId": "69a2e7aa-0e7f-4e80-8427-f2414010c56f"
      },
      "source": [
        "d"
      ],
      "execution_count": 70,
      "outputs": [
        {
          "output_type": "execute_result",
          "data": {
            "text/plain": [
              "array([[ 0.868812  , -2.11372714, -1.15428614,  0.17424799, -0.05857704,\n",
              "        -0.57624531, -0.06122225, -0.41126327, -0.26212762,  0.41671895],\n",
              "       [ 0.08030281,  1.72641239,  0.4251837 , -0.12972098,  1.72088553,\n",
              "         0.76085423, -0.34771448, -1.49855993,  1.000024  ,  0.50027552],\n",
              "       [ 0.74333394, -0.66529939,  0.49036336, -0.35860347, -1.73582554,\n",
              "         0.16823284, -0.41504058, -1.37960195,  0.34199221, -0.57775215],\n",
              "       [ 0.31354463, -0.95231472, -0.02235881, -1.28137439,  1.3670647 ,\n",
              "         1.45315008,  0.81464105, -0.93792517,  0.11746144,  0.45762246],\n",
              "       [-0.12722148,  0.14418636, -1.92079358,  0.91804612,  0.97555775,\n",
              "         0.11324708,  0.92940958, -0.85847918,  0.7995935 , -1.43100384],\n",
              "       [ 1.02405264,  2.28492726, -0.59795725, -0.58266669, -0.35247486,\n",
              "         0.95405912,  0.7487586 ,  0.17114609,  1.45529709, -1.3854104 ],\n",
              "       [ 2.13039249,  0.41540209,  1.59980282, -0.20404376, -1.13653698,\n",
              "        -1.36266823,  1.34238022, -0.10036852, -0.70765999, -0.74176616],\n",
              "       [-0.01729055, -0.28927404,  0.91914852,  0.03445063,  1.32582236,\n",
              "        -0.17313005,  0.09389091, -1.88155091, -0.63609366,  1.54410748],\n",
              "       [-0.64406576,  1.88711079,  1.53219175, -0.85659995,  0.30999499,\n",
              "         1.25998383, -0.50969918,  0.59578815,  1.38738914,  0.02257406],\n",
              "       [-1.17071778,  2.87624244, -0.74042598, -0.05463718,  1.41547119,\n",
              "        -3.55639749,  1.48131556,  0.4766951 ,  0.86185214,  1.08160935]])"
            ]
          },
          "metadata": {
            "tags": []
          },
          "execution_count": 70
        }
      ]
    },
    {
      "cell_type": "code",
      "metadata": {
        "id": "m7xBMzBc5B_e",
        "colab_type": "code",
        "colab": {
          "base_uri": "https://localhost:8080/",
          "height": 34
        },
        "outputId": "82c554fb-8503-4d8f-bf4c-0056cc158df1"
      },
      "source": [
        "d.mean()"
      ],
      "execution_count": 71,
      "outputs": [
        {
          "output_type": "execute_result",
          "data": {
            "text/plain": [
              "0.12074547240868456"
            ]
          },
          "metadata": {
            "tags": []
          },
          "execution_count": 71
        }
      ]
    },
    {
      "cell_type": "code",
      "metadata": {
        "id": "IU68FCxT5hks",
        "colab_type": "code",
        "colab": {
          "base_uri": "https://localhost:8080/",
          "height": 34
        },
        "outputId": "2cdd434d-3d99-41f5-c741-551dda759096"
      },
      "source": [
        "d.var()"
      ],
      "execution_count": 72,
      "outputs": [
        {
          "output_type": "execute_result",
          "data": {
            "text/plain": [
              "1.1683754515399571"
            ]
          },
          "metadata": {
            "tags": []
          },
          "execution_count": 72
        }
      ]
    },
    {
      "cell_type": "markdown",
      "metadata": {
        "id": "TTrZIlMw5kxO",
        "colab_type": "text"
      },
      "source": [
        "# Matrix Products"
      ]
    },
    {
      "cell_type": "code",
      "metadata": {
        "id": "aAk5ZFt15i7q",
        "colab_type": "code",
        "colab": {}
      },
      "source": [
        "A = np.array([[1,2],[3,4]])"
      ],
      "execution_count": 0,
      "outputs": []
    },
    {
      "cell_type": "code",
      "metadata": {
        "id": "U3IXAh-455Gr",
        "colab_type": "code",
        "colab": {}
      },
      "source": [
        "Ainv = np.linalg.inv(A)"
      ],
      "execution_count": 0,
      "outputs": []
    },
    {
      "cell_type": "code",
      "metadata": {
        "id": "QlGUQueb59ER",
        "colab_type": "code",
        "colab": {
          "base_uri": "https://localhost:8080/",
          "height": 51
        },
        "outputId": "14f9afaf-898e-4885-ff59-34e830396dbe"
      },
      "source": [
        "Ainv"
      ],
      "execution_count": 75,
      "outputs": [
        {
          "output_type": "execute_result",
          "data": {
            "text/plain": [
              "array([[-2. ,  1. ],\n",
              "       [ 1.5, -0.5]])"
            ]
          },
          "metadata": {
            "tags": []
          },
          "execution_count": 75
        }
      ]
    },
    {
      "cell_type": "code",
      "metadata": {
        "id": "LQtIPEk65-ni",
        "colab_type": "code",
        "colab": {
          "base_uri": "https://localhost:8080/",
          "height": 51
        },
        "outputId": "ee375ec5-6d8d-410c-de95-edfafff50d87"
      },
      "source": [
        "Ainv.dot(A)"
      ],
      "execution_count": 76,
      "outputs": [
        {
          "output_type": "execute_result",
          "data": {
            "text/plain": [
              "array([[1.00000000e+00, 0.00000000e+00],\n",
              "       [1.11022302e-16, 1.00000000e+00]])"
            ]
          },
          "metadata": {
            "tags": []
          },
          "execution_count": 76
        }
      ]
    },
    {
      "cell_type": "code",
      "metadata": {
        "id": "J5X9rAie6Czv",
        "colab_type": "code",
        "colab": {
          "base_uri": "https://localhost:8080/",
          "height": 51
        },
        "outputId": "01a1c76b-e45f-45d1-d215-f3ce45183396"
      },
      "source": [
        "A.dot(Ainv)"
      ],
      "execution_count": 77,
      "outputs": [
        {
          "output_type": "execute_result",
          "data": {
            "text/plain": [
              "array([[1.0000000e+00, 0.0000000e+00],\n",
              "       [8.8817842e-16, 1.0000000e+00]])"
            ]
          },
          "metadata": {
            "tags": []
          },
          "execution_count": 77
        }
      ]
    },
    {
      "cell_type": "code",
      "metadata": {
        "id": "SEBYyHMT6FVA",
        "colab_type": "code",
        "colab": {
          "base_uri": "https://localhost:8080/",
          "height": 34
        },
        "outputId": "66e036be-ab7b-49cd-9c5d-042327f2cbdc"
      },
      "source": [
        "np.linalg.det(A)"
      ],
      "execution_count": 78,
      "outputs": [
        {
          "output_type": "execute_result",
          "data": {
            "text/plain": [
              "-2.0000000000000004"
            ]
          },
          "metadata": {
            "tags": []
          },
          "execution_count": 78
        }
      ]
    },
    {
      "cell_type": "code",
      "metadata": {
        "id": "jzGZHhAl6O21",
        "colab_type": "code",
        "colab": {
          "base_uri": "https://localhost:8080/",
          "height": 34
        },
        "outputId": "eb34eac9-979a-4782-d5db-49e18f1b24b3"
      },
      "source": [
        "np.diag(A)"
      ],
      "execution_count": 79,
      "outputs": [
        {
          "output_type": "execute_result",
          "data": {
            "text/plain": [
              "array([1, 4])"
            ]
          },
          "metadata": {
            "tags": []
          },
          "execution_count": 79
        }
      ]
    },
    {
      "cell_type": "code",
      "metadata": {
        "id": "d2IhhLkr6Sin",
        "colab_type": "code",
        "colab": {
          "base_uri": "https://localhost:8080/",
          "height": 51
        },
        "outputId": "995247ee-3b13-4600-8b79-4a535bd21104"
      },
      "source": [
        "np.diag([1,2])"
      ],
      "execution_count": 80,
      "outputs": [
        {
          "output_type": "execute_result",
          "data": {
            "text/plain": [
              "array([[1, 0],\n",
              "       [0, 2]])"
            ]
          },
          "metadata": {
            "tags": []
          },
          "execution_count": 80
        }
      ]
    },
    {
      "cell_type": "code",
      "metadata": {
        "id": "CvxCY2xd6WWG",
        "colab_type": "code",
        "colab": {
          "base_uri": "https://localhost:8080/",
          "height": 51
        },
        "outputId": "77a8d717-7257-4526-dbe3-3d9a517d1204"
      },
      "source": [
        "np.diag([3,5])"
      ],
      "execution_count": 81,
      "outputs": [
        {
          "output_type": "execute_result",
          "data": {
            "text/plain": [
              "array([[3, 0],\n",
              "       [0, 5]])"
            ]
          },
          "metadata": {
            "tags": []
          },
          "execution_count": 81
        }
      ]
    },
    {
      "cell_type": "code",
      "metadata": {
        "id": "21oWI7_P6ao_",
        "colab_type": "code",
        "colab": {
          "base_uri": "https://localhost:8080/",
          "height": 51
        },
        "outputId": "837c2489-3adf-4ed1-fd18-019ebf80c563"
      },
      "source": [
        "a = np.array([1,2])\n",
        "b = np.array([3,4])\n",
        "np.outer(a,b)"
      ],
      "execution_count": 82,
      "outputs": [
        {
          "output_type": "execute_result",
          "data": {
            "text/plain": [
              "array([[3, 4],\n",
              "       [6, 8]])"
            ]
          },
          "metadata": {
            "tags": []
          },
          "execution_count": 82
        }
      ]
    },
    {
      "cell_type": "code",
      "metadata": {
        "id": "UToPbhWn6l7U",
        "colab_type": "code",
        "colab": {
          "base_uri": "https://localhost:8080/",
          "height": 34
        },
        "outputId": "883fb641-1290-4f18-91e2-310b14def229"
      },
      "source": [
        "np.inner(a,b)"
      ],
      "execution_count": 83,
      "outputs": [
        {
          "output_type": "execute_result",
          "data": {
            "text/plain": [
              "11"
            ]
          },
          "metadata": {
            "tags": []
          },
          "execution_count": 83
        }
      ]
    },
    {
      "cell_type": "code",
      "metadata": {
        "id": "7_XgveH76rds",
        "colab_type": "code",
        "colab": {
          "base_uri": "https://localhost:8080/",
          "height": 34
        },
        "outputId": "00cb1c03-e2a1-41bc-ae3e-406ce59487f9"
      },
      "source": [
        "a.dot(b)"
      ],
      "execution_count": 84,
      "outputs": [
        {
          "output_type": "execute_result",
          "data": {
            "text/plain": [
              "11"
            ]
          },
          "metadata": {
            "tags": []
          },
          "execution_count": 84
        }
      ]
    },
    {
      "cell_type": "code",
      "metadata": {
        "id": "9NvDrvV26t_D",
        "colab_type": "code",
        "colab": {
          "base_uri": "https://localhost:8080/",
          "height": 34
        },
        "outputId": "16c5e091-bbb2-4053-f52b-9ea1cd71a305"
      },
      "source": [
        "np.diag(A).sum()"
      ],
      "execution_count": 85,
      "outputs": [
        {
          "output_type": "execute_result",
          "data": {
            "text/plain": [
              "5"
            ]
          },
          "metadata": {
            "tags": []
          },
          "execution_count": 85
        }
      ]
    },
    {
      "cell_type": "code",
      "metadata": {
        "id": "hmA6mAYu6zE8",
        "colab_type": "code",
        "colab": {
          "base_uri": "https://localhost:8080/",
          "height": 34
        },
        "outputId": "1a35b5d6-7832-448a-f947-c33d99c0ac01"
      },
      "source": [
        "# Return the sum along diagonals of the array.\n",
        "np.trace(A)"
      ],
      "execution_count": 86,
      "outputs": [
        {
          "output_type": "execute_result",
          "data": {
            "text/plain": [
              "5"
            ]
          },
          "metadata": {
            "tags": []
          },
          "execution_count": 86
        }
      ]
    },
    {
      "cell_type": "code",
      "metadata": {
        "id": "KUUUNSR965Jg",
        "colab_type": "code",
        "colab": {
          "base_uri": "https://localhost:8080/",
          "height": 51
        },
        "outputId": "c3f296e1-0662-49f8-b4c6-ca6715b3a14d"
      },
      "source": [
        "A"
      ],
      "execution_count": 87,
      "outputs": [
        {
          "output_type": "execute_result",
          "data": {
            "text/plain": [
              "array([[1, 2],\n",
              "       [3, 4]])"
            ]
          },
          "metadata": {
            "tags": []
          },
          "execution_count": 87
        }
      ]
    },
    {
      "cell_type": "code",
      "metadata": {
        "id": "Q3rvJ-Jb68ZI",
        "colab_type": "code",
        "colab": {
          "base_uri": "https://localhost:8080/",
          "height": 238
        },
        "outputId": "f0451ebb-ebbc-49d1-dd81-6738e8efe922"
      },
      "source": [
        "X = np.random.randn(100,3)\n",
        "# Estimate a covariance matrix, given data and weights.\n",
        "cov = np.cov(X)\n",
        "cov"
      ],
      "execution_count": 88,
      "outputs": [
        {
          "output_type": "execute_result",
          "data": {
            "text/plain": [
              "array([[ 1.37942234,  0.80159554, -0.72447344, ...,  0.87934829,\n",
              "        -0.46946152, -0.54312223],\n",
              "       [ 0.80159554,  0.69703606, -0.20168747, ...,  0.3740813 ,\n",
              "        -0.47123827, -0.28011039],\n",
              "       [-0.72447344, -0.20168747,  0.58850815, ..., -0.59169809,\n",
              "         0.05835292,  0.31892249],\n",
              "       ...,\n",
              "       [ 0.87934829,  0.3740813 , -0.59169809, ...,  0.64163754,\n",
              "        -0.18177125, -0.36725025],\n",
              "       [-0.46946152, -0.47123827,  0.05835292, ..., -0.18177125,\n",
              "         0.33006138,  0.15437373],\n",
              "       [-0.54312223, -0.28011039,  0.31892249, ..., -0.36725025,\n",
              "         0.15437373,  0.21929578]])"
            ]
          },
          "metadata": {
            "tags": []
          },
          "execution_count": 88
        }
      ]
    },
    {
      "cell_type": "code",
      "metadata": {
        "id": "ARdAy9lB7HC0",
        "colab_type": "code",
        "colab": {
          "base_uri": "https://localhost:8080/",
          "height": 34
        },
        "outputId": "9c645137-dfc2-452b-cdd7-efcc0cfbba62"
      },
      "source": [
        "cov.shape"
      ],
      "execution_count": 89,
      "outputs": [
        {
          "output_type": "execute_result",
          "data": {
            "text/plain": [
              "(100, 100)"
            ]
          },
          "metadata": {
            "tags": []
          },
          "execution_count": 89
        }
      ]
    },
    {
      "cell_type": "code",
      "metadata": {
        "id": "jpMNuRhL7L77",
        "colab_type": "code",
        "colab": {}
      },
      "source": [
        "cov = np.cov(X.T)"
      ],
      "execution_count": 0,
      "outputs": []
    },
    {
      "cell_type": "code",
      "metadata": {
        "id": "s1cr0Ped7dtE",
        "colab_type": "code",
        "colab": {
          "base_uri": "https://localhost:8080/",
          "height": 68
        },
        "outputId": "f8f4f099-031d-4952-aceb-12f1bfd74491"
      },
      "source": [
        "cov"
      ],
      "execution_count": 91,
      "outputs": [
        {
          "output_type": "execute_result",
          "data": {
            "text/plain": [
              "array([[0.83493351, 0.17148772, 0.09775487],\n",
              "       [0.17148772, 0.87622159, 0.02032025],\n",
              "       [0.09775487, 0.02032025, 1.0064389 ]])"
            ]
          },
          "metadata": {
            "tags": []
          },
          "execution_count": 91
        }
      ]
    },
    {
      "cell_type": "code",
      "metadata": {
        "id": "WSJPvU4s7eqY",
        "colab_type": "code",
        "colab": {
          "base_uri": "https://localhost:8080/",
          "height": 85
        },
        "outputId": "253b52e9-22cb-4804-f4f4-50ae8857b478"
      },
      "source": [
        "np.linalg.eigh(cov)"
      ],
      "execution_count": 92,
      "outputs": [
        {
          "output_type": "execute_result",
          "data": {
            "text/plain": [
              "(array([0.67162015, 0.94401444, 1.10195941]),\n",
              " array([[ 0.76215257,  0.32857436,  0.55781928],\n",
              "        [-0.6204418 ,  0.61675191,  0.48442652],\n",
              "        [-0.18486597, -0.71530131,  0.67392032]]))"
            ]
          },
          "metadata": {
            "tags": []
          },
          "execution_count": 92
        }
      ]
    },
    {
      "cell_type": "code",
      "metadata": {
        "id": "BwDGUmm37qlc",
        "colab_type": "code",
        "colab": {
          "base_uri": "https://localhost:8080/",
          "height": 85
        },
        "outputId": "e25d77e6-90c4-4b59-f434-05494e7df211"
      },
      "source": [
        "np.linalg.eig(cov)"
      ],
      "execution_count": 93,
      "outputs": [
        {
          "output_type": "execute_result",
          "data": {
            "text/plain": [
              "(array([0.67162015, 1.10195941, 0.94401444]),\n",
              " array([[ 0.76215257, -0.55781928, -0.32857436],\n",
              "        [-0.6204418 , -0.48442652, -0.61675191],\n",
              "        [-0.18486597, -0.67392032,  0.71530131]]))"
            ]
          },
          "metadata": {
            "tags": []
          },
          "execution_count": 93
        }
      ]
    },
    {
      "cell_type": "markdown",
      "metadata": {
        "id": "tlp1xzch8NZg",
        "colab_type": "text"
      },
      "source": [
        "# Solving linear system"
      ]
    },
    {
      "cell_type": "code",
      "metadata": {
        "id": "WbXTplqE7vv3",
        "colab_type": "code",
        "colab": {
          "base_uri": "https://localhost:8080/",
          "height": 51
        },
        "outputId": "874da43c-e66e-4a43-aec6-58710fcfbf7f"
      },
      "source": [
        "A"
      ],
      "execution_count": 94,
      "outputs": [
        {
          "output_type": "execute_result",
          "data": {
            "text/plain": [
              "array([[1, 2],\n",
              "       [3, 4]])"
            ]
          },
          "metadata": {
            "tags": []
          },
          "execution_count": 94
        }
      ]
    },
    {
      "cell_type": "code",
      "metadata": {
        "id": "Hzjl1VqY8R2O",
        "colab_type": "code",
        "colab": {
          "base_uri": "https://localhost:8080/",
          "height": 34
        },
        "outputId": "ae782a2d-d711-4a85-8a2c-a02316f80406"
      },
      "source": [
        "b"
      ],
      "execution_count": 95,
      "outputs": [
        {
          "output_type": "execute_result",
          "data": {
            "text/plain": [
              "array([3, 4])"
            ]
          },
          "metadata": {
            "tags": []
          },
          "execution_count": 95
        }
      ]
    },
    {
      "cell_type": "code",
      "metadata": {
        "id": "OO1qf0Wm8T4v",
        "colab_type": "code",
        "colab": {
          "base_uri": "https://localhost:8080/",
          "height": 34
        },
        "outputId": "3ab6056a-1b10-474d-956c-5958cada6186"
      },
      "source": [
        "b = np.array([1,2])\n",
        "b"
      ],
      "execution_count": 96,
      "outputs": [
        {
          "output_type": "execute_result",
          "data": {
            "text/plain": [
              "array([1, 2])"
            ]
          },
          "metadata": {
            "tags": []
          },
          "execution_count": 96
        }
      ]
    },
    {
      "cell_type": "code",
      "metadata": {
        "id": "DKAVSiSb8ZQf",
        "colab_type": "code",
        "colab": {}
      },
      "source": [
        "x = np.linalg.inv(A).dot(b)"
      ],
      "execution_count": 0,
      "outputs": []
    },
    {
      "cell_type": "code",
      "metadata": {
        "id": "rXNsWXDg8ed5",
        "colab_type": "code",
        "colab": {
          "base_uri": "https://localhost:8080/",
          "height": 34
        },
        "outputId": "1ff87cc0-1407-4fb5-cff8-c5568d372ef0"
      },
      "source": [
        "x"
      ],
      "execution_count": 98,
      "outputs": [
        {
          "output_type": "execute_result",
          "data": {
            "text/plain": [
              "array([0. , 0.5])"
            ]
          },
          "metadata": {
            "tags": []
          },
          "execution_count": 98
        }
      ]
    },
    {
      "cell_type": "markdown",
      "metadata": {
        "id": "zkF4L_XZ8uti",
        "colab_type": "text"
      },
      "source": [
        "**It is encourgared to use solve()**"
      ]
    },
    {
      "cell_type": "code",
      "metadata": {
        "id": "99rv3fgF8ggI",
        "colab_type": "code",
        "colab": {}
      },
      "source": [
        "x = np.linalg.solve(A,b)"
      ],
      "execution_count": 0,
      "outputs": []
    },
    {
      "cell_type": "code",
      "metadata": {
        "id": "idFCavRE8nmn",
        "colab_type": "code",
        "colab": {
          "base_uri": "https://localhost:8080/",
          "height": 34
        },
        "outputId": "f8738efd-e721-49c2-9ff3-89c3372290ab"
      },
      "source": [
        "x"
      ],
      "execution_count": 101,
      "outputs": [
        {
          "output_type": "execute_result",
          "data": {
            "text/plain": [
              "array([0. , 0.5])"
            ]
          },
          "metadata": {
            "tags": []
          },
          "execution_count": 101
        }
      ]
    },
    {
      "cell_type": "markdown",
      "metadata": {
        "id": "5Qi2TIYN832n",
        "colab_type": "text"
      },
      "source": [
        "# Practice"
      ]
    },
    {
      "cell_type": "code",
      "metadata": {
        "id": "Jk3b5VWa8q2_",
        "colab_type": "code",
        "colab": {
          "base_uri": "https://localhost:8080/",
          "height": 34
        },
        "outputId": "9f79c9d4-35ee-4863-e8b8-fe3e6cd2ee75"
      },
      "source": [
        "A = np.array([[1,1],[1.5,4]])\n",
        "b = np.array([2200,5050])\n",
        "np.linalg.solve(A,b)"
      ],
      "execution_count": 104,
      "outputs": [
        {
          "output_type": "execute_result",
          "data": {
            "text/plain": [
              "array([1500.,  700.])"
            ]
          },
          "metadata": {
            "tags": []
          },
          "execution_count": 104
        }
      ]
    },
    {
      "cell_type": "code",
      "metadata": {
        "id": "J60k9XWN9M3t",
        "colab_type": "code",
        "colab": {}
      },
      "source": [
        ""
      ],
      "execution_count": 0,
      "outputs": []
    }
  ]
}