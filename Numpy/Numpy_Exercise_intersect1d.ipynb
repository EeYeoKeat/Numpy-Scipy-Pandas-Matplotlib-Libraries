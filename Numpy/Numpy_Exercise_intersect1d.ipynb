{
  "nbformat": 4,
  "nbformat_minor": 0,
  "metadata": {
    "colab": {
      "name": "Numpy_Exercise_intersect1d.ipynb",
      "provenance": [],
      "collapsed_sections": []
    },
    "kernelspec": {
      "name": "python3",
      "display_name": "Python 3"
    },
    "accelerator": "GPU"
  },
  "cells": [
    {
      "cell_type": "markdown",
      "metadata": {
        "id": "DVwCuILfQ_FH",
        "colab_type": "text"
      },
      "source": [
        "# Intro of `np.intersect1d(a1, a2)`"
      ]
    },
    {
      "cell_type": "code",
      "metadata": {
        "id": "VAKUN9ZE6VuC",
        "colab_type": "code",
        "outputId": "b7b5841f-056a-459d-b84e-f238e4a500ea",
        "colab": {
          "base_uri": "https://localhost:8080/",
          "height": 51
        }
      },
      "source": [
        "import numpy as np\n",
        "\n",
        "a1 = np.array([0, 10, 20, 40, 60])\n",
        "print(\"Array1: \",a1)\n",
        "a2 = [10, 30, 40]\n",
        "print(\"Array2: \",a2)"
      ],
      "execution_count": 1,
      "outputs": [
        {
          "output_type": "stream",
          "text": [
            "Array1:  [ 0 10 20 40 60]\n",
            "Array2:  [10, 30, 40]\n"
          ],
          "name": "stdout"
        }
      ]
    },
    {
      "cell_type": "code",
      "metadata": {
        "id": "BMZKoIbn86q1",
        "colab_type": "code",
        "outputId": "6d2e8420-435f-415e-ef93-f809c7d244d0",
        "colab": {
          "base_uri": "https://localhost:8080/",
          "height": 51
        }
      },
      "source": [
        "print(\"Common values between two arrays:\")\n",
        "print(np.intersect1d(a1, a2))"
      ],
      "execution_count": 2,
      "outputs": [
        {
          "output_type": "stream",
          "text": [
            "Common values between two arrays:\n",
            "[10 40]\n"
          ],
          "name": "stdout"
        }
      ]
    },
    {
      "cell_type": "code",
      "metadata": {
        "id": "nowF97mO9IlP",
        "colab_type": "code",
        "outputId": "66035a6b-f566-40a5-a263-58b74ee99dc0",
        "colab": {
          "base_uri": "https://localhost:8080/",
          "height": 85
        }
      },
      "source": [
        "b1 = np.array([[0, 10, 20, 40, 60],[1, 30, 5, 6, 8]])\n",
        "print(\"Array1: \",b1)\n",
        "b2 = np.array([[2, 1, 50, 4, 12],[15, 23, 21, 16, 18]])\n",
        "print(\"Array2: \",b2)"
      ],
      "execution_count": 3,
      "outputs": [
        {
          "output_type": "stream",
          "text": [
            "Array1:  [[ 0 10 20 40 60]\n",
            " [ 1 30  5  6  8]]\n",
            "Array2:  [[ 2  1 50  4 12]\n",
            " [15 23 21 16 18]]\n"
          ],
          "name": "stdout"
        }
      ]
    },
    {
      "cell_type": "code",
      "metadata": {
        "id": "M5XOp09jAvik",
        "colab_type": "code",
        "outputId": "d0b3cbd6-368f-4614-9596-55e23afba2d1",
        "colab": {
          "base_uri": "https://localhost:8080/",
          "height": 51
        }
      },
      "source": [
        "print(\"Common values between two arrays:\")\n",
        "print(np.intersect1d(b1, b2))"
      ],
      "execution_count": 4,
      "outputs": [
        {
          "output_type": "stream",
          "text": [
            "Common values between two arrays:\n",
            "[1]\n"
          ],
          "name": "stdout"
        }
      ]
    }
  ]
}