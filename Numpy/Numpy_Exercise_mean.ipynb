{
  "nbformat": 4,
  "nbformat_minor": 0,
  "metadata": {
    "colab": {
      "name": "Numpy_Exercise_mean.ipynb",
      "provenance": [],
      "collapsed_sections": []
    },
    "kernelspec": {
      "name": "python3",
      "display_name": "Python 3"
    },
    "accelerator": "GPU"
  },
  "cells": [
    {
      "cell_type": "markdown",
      "metadata": {
        "id": "0ae0ECToGgS7",
        "colab_type": "text"
      },
      "source": [
        "`numpy.mean(a, axis=None, dtype=None, out=None, keepdims=False)` <br>\n",
        "Compute the arithmetic mean along the specified axis. Axis or axes along which the means are computed. The default is to compute the mean of the flattened array."
      ]
    },
    {
      "cell_type": "code",
      "metadata": {
        "id": "tY667a-cFMPa",
        "colab_type": "code",
        "colab": {
          "base_uri": "https://localhost:8080/",
          "height": 34
        },
        "outputId": "9180328c-4c66-4534-92e6-b7ad30f76a0a"
      },
      "source": [
        "import numpy as np\n",
        "\n",
        "a = np.array([[1, 2], [3, 4]])\n",
        "np.mean(a)"
      ],
      "execution_count": 2,
      "outputs": [
        {
          "output_type": "execute_result",
          "data": {
            "text/plain": [
              "2.5"
            ]
          },
          "metadata": {
            "tags": []
          },
          "execution_count": 2
        }
      ]
    },
    {
      "cell_type": "code",
      "metadata": {
        "id": "pRQYS-iOGuTA",
        "colab_type": "code",
        "colab": {
          "base_uri": "https://localhost:8080/",
          "height": 34
        },
        "outputId": "8348c4c4-9e9c-46fa-8f0f-89ba9787dd21"
      },
      "source": [
        "np.mean(a, axis=0)"
      ],
      "execution_count": 3,
      "outputs": [
        {
          "output_type": "execute_result",
          "data": {
            "text/plain": [
              "array([2., 3.])"
            ]
          },
          "metadata": {
            "tags": []
          },
          "execution_count": 3
        }
      ]
    },
    {
      "cell_type": "code",
      "metadata": {
        "id": "0JiIM0xiHJiq",
        "colab_type": "code",
        "colab": {
          "base_uri": "https://localhost:8080/",
          "height": 34
        },
        "outputId": "e888cdeb-7b8c-48e2-b388-617d6526085d"
      },
      "source": [
        "np.mean(a, axis=1)"
      ],
      "execution_count": 4,
      "outputs": [
        {
          "output_type": "execute_result",
          "data": {
            "text/plain": [
              "array([1.5, 3.5])"
            ]
          },
          "metadata": {
            "tags": []
          },
          "execution_count": 4
        }
      ]
    },
    {
      "cell_type": "code",
      "metadata": {
        "id": "Bhh0W33DHLs8",
        "colab_type": "code",
        "colab": {
          "base_uri": "https://localhost:8080/",
          "height": 34
        },
        "outputId": "fb9b2caa-f734-4ad0-aafc-4935b73e8b49"
      },
      "source": [
        "b = np.array([1,2,3,4])\n",
        "np.mean(b)"
      ],
      "execution_count": 5,
      "outputs": [
        {
          "output_type": "execute_result",
          "data": {
            "text/plain": [
              "2.5"
            ]
          },
          "metadata": {
            "tags": []
          },
          "execution_count": 5
        }
      ]
    },
    {
      "cell_type": "code",
      "metadata": {
        "id": "M8yvTxsMxQiM",
        "colab_type": "code",
        "outputId": "bb3e8994-b89a-4399-bc4a-59ed51fded77",
        "colab": {
          "base_uri": "https://localhost:8080/",
          "height": 357
        }
      },
      "source": [
        "import numpy as np\n",
        "\n",
        "epoch = 100\n",
        "cost = np.array([1, 2])\n",
        "a = [None] * epoch\n",
        "\n",
        "for i in range(epoch):\n",
        "  loss=[]\n",
        "  cost = cost * 1.2\n",
        "  loss.append(cost)\n",
        "  avg = np.mean(loss)\n",
        "  a[i]= avg\n",
        "  if i % 10 == 0:\n",
        "    print('\\nepoch: %d, average lost: %f'%(i , avg))"
      ],
      "execution_count": 13,
      "outputs": [
        {
          "output_type": "stream",
          "text": [
            "\n",
            "epoch: 0, average lost: 1.800000\n",
            "\n",
            "epoch: 10, average lost: 11.145126\n",
            "\n",
            "epoch: 20, average lost: 69.007680\n",
            "\n",
            "epoch: 30, average lost: 427.277365\n",
            "\n",
            "epoch: 40, average lost: 2645.588822\n",
            "\n",
            "epoch: 50, average lost: 16380.788670\n",
            "\n",
            "epoch: 60, average lost: 101425.525836\n",
            "\n",
            "epoch: 70, average lost: 628000.122478\n",
            "\n",
            "epoch: 80, average lost: 3888411.231619\n",
            "\n",
            "epoch: 90, average lost: 24076017.448082\n"
          ],
          "name": "stdout"
        }
      ]
    },
    {
      "cell_type": "code",
      "metadata": {
        "id": "t0zxaywUS7Lk",
        "colab_type": "code",
        "colab": {
          "base_uri": "https://localhost:8080/",
          "height": 1000
        },
        "outputId": "4ae24bcf-579b-489a-a24c-c4c3e0a2b806"
      },
      "source": [
        "for i in range(epoch):\n",
        "  print(a[i])"
      ],
      "execution_count": 16,
      "outputs": [
        {
          "output_type": "stream",
          "text": [
            "1.7999999999999998\n",
            "2.16\n",
            "2.592\n",
            "3.1104\n",
            "3.73248\n",
            "4.478975999999999\n",
            "5.3747712\n",
            "6.449725439999999\n",
            "7.7396705279999995\n",
            "9.287604633599999\n",
            "11.145125560319999\n",
            "13.374150672383998\n",
            "16.048980806860794\n",
            "19.25877696823295\n",
            "23.110532361879542\n",
            "27.732638834255447\n",
            "33.27916660110654\n",
            "39.934999921327844\n",
            "47.92199990559341\n",
            "57.506399886712096\n",
            "69.00767986405451\n",
            "82.8092158368654\n",
            "99.37105900423848\n",
            "119.24527080508618\n",
            "143.09432496610341\n",
            "171.7131899593241\n",
            "206.05582795118892\n",
            "247.2669935414267\n",
            "296.72039224971206\n",
            "356.06447069965446\n",
            "427.2773648395853\n",
            "512.7328378075024\n",
            "615.2794053690028\n",
            "738.3352864428033\n",
            "886.0023437313639\n",
            "1063.2028124776366\n",
            "1275.843374973164\n",
            "1531.0120499677967\n",
            "1837.2144599613557\n",
            "2204.657351953627\n",
            "2645.588822344352\n",
            "3174.706586813222\n",
            "3809.6479041758666\n",
            "4571.577485011039\n",
            "5485.892982013248\n",
            "6583.0715784158965\n",
            "7899.685894099075\n",
            "9479.62307291889\n",
            "11375.547687502667\n",
            "13650.6572250032\n",
            "16380.78867000384\n",
            "19656.946404004604\n",
            "23588.335684805526\n",
            "28306.00282176663\n",
            "33967.20338611995\n",
            "40760.64406334395\n",
            "48912.772876012736\n",
            "58695.32745121528\n",
            "70434.39294145834\n",
            "84521.27152975\n",
            "101425.52583569998\n",
            "121710.63100283999\n",
            "146052.757203408\n",
            "175263.3086440896\n",
            "210315.97037290747\n",
            "252379.16444748896\n",
            "302854.9973369867\n",
            "363425.99680438405\n",
            "436111.19616526086\n",
            "523333.435398313\n",
            "628000.1224779757\n",
            "753600.1469735707\n",
            "904320.1763682847\n",
            "1085184.2116419417\n",
            "1302221.05397033\n",
            "1562665.264764396\n",
            "1875198.3177172751\n",
            "2250237.98126073\n",
            "2700285.577512876\n",
            "3240342.693015451\n",
            "3888411.2316185413\n",
            "4666093.477942249\n",
            "5599312.173530699\n",
            "6719174.608236839\n",
            "8063009.529884206\n",
            "9675611.435861047\n",
            "11610733.723033257\n",
            "13932880.467639908\n",
            "16719456.561167888\n",
            "20063347.873401467\n",
            "24076017.44808176\n",
            "28891220.93769811\n",
            "34669465.12523773\n",
            "41603358.150285274\n",
            "49924029.78034233\n",
            "59908835.7364108\n",
            "71890602.88369295\n",
            "86268723.46043155\n",
            "103522468.15251786\n",
            "124226961.78302142\n"
          ],
          "name": "stdout"
        }
      ]
    }
  ]
}