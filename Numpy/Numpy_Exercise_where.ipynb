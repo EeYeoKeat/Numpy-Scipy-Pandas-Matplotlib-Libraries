{
  "nbformat": 4,
  "nbformat_minor": 0,
  "metadata": {
    "colab": {
      "name": "Numpy_Exercise_where.ipynb",
      "provenance": []
    },
    "kernelspec": {
      "name": "python3",
      "display_name": "Python 3"
    }
  },
  "cells": [
    {
      "cell_type": "markdown",
      "metadata": {
        "id": "GdK1_J0OjFXY",
        "colab_type": "text"
      },
      "source": [
        "numpy.where(condition[, x, y]) <br>\n",
        "Return elements chosen from x or y depending on condition. <br>\n",
        "\n",
        "\n",
        "<strong>Parameters:</strong><br>\n",
        "condition : array_like, bool\n",
        "Where True, yield x, otherwise yield y.\n",
        "\n",
        "x, y : array_like\n",
        "Values from which to choose. x, y and condition need to be broadcastable to some shape.\n",
        "\n",
        "Returns:\t\n",
        "out : ndarray\n",
        "An array with elements from x where condition is True, and elements from y elsewhere."
      ]
    },
    {
      "cell_type": "code",
      "metadata": {
        "id": "YCoX5Tqrin3l",
        "colab_type": "code",
        "colab": {
          "base_uri": "https://localhost:8080/",
          "height": 34
        },
        "outputId": "d9fc159f-bdbd-442d-ff92-735795425d2f"
      },
      "source": [
        "import numpy as np\n",
        "\n",
        "a = np.arange(10)\n",
        "a"
      ],
      "execution_count": 2,
      "outputs": [
        {
          "output_type": "execute_result",
          "data": {
            "text/plain": [
              "array([0, 1, 2, 3, 4, 5, 6, 7, 8, 9])"
            ]
          },
          "metadata": {
            "tags": []
          },
          "execution_count": 2
        }
      ]
    },
    {
      "cell_type": "code",
      "metadata": {
        "id": "gLmMm2HHj5yY",
        "colab_type": "code",
        "colab": {
          "base_uri": "https://localhost:8080/",
          "height": 34
        },
        "outputId": "1a3eca05-849f-4d49-9159-b97695ff5a1a"
      },
      "source": [
        "np.where(a < 5, a, 10*a)"
      ],
      "execution_count": 3,
      "outputs": [
        {
          "output_type": "execute_result",
          "data": {
            "text/plain": [
              "array([ 0,  1,  2,  3,  4, 50, 60, 70, 80, 90])"
            ]
          },
          "metadata": {
            "tags": []
          },
          "execution_count": 3
        }
      ]
    },
    {
      "cell_type": "markdown",
      "metadata": {
        "id": "xOfoNLYMkIAl",
        "colab_type": "text"
      },
      "source": [
        "From above example, we can noted that if ***a*** is less than 5, then output will be exactly as ***a***, while greater than 5 will return output of multiplication by 10."
      ]
    },
    {
      "cell_type": "markdown",
      "metadata": {
        "id": "NemcbfpJkcvo",
        "colab_type": "text"
      },
      "source": [
        "The `np.where` is different from `DataFrame.where` which is replace values where the condition is False."
      ]
    },
    {
      "cell_type": "code",
      "metadata": {
        "id": "k4Fl-BUWkCPt",
        "colab_type": "code",
        "colab": {
          "base_uri": "https://localhost:8080/",
          "height": 119
        },
        "outputId": "60d0642a-639b-48ef-b265-bc6e51b1a253"
      },
      "source": [
        "import pandas as pd\n",
        "\n",
        "s = pd.Series(range(5))\n",
        "s.where(s > 0)"
      ],
      "execution_count": 4,
      "outputs": [
        {
          "output_type": "execute_result",
          "data": {
            "text/plain": [
              "0    NaN\n",
              "1    1.0\n",
              "2    2.0\n",
              "3    3.0\n",
              "4    4.0\n",
              "dtype: float64"
            ]
          },
          "metadata": {
            "tags": []
          },
          "execution_count": 4
        }
      ]
    },
    {
      "cell_type": "code",
      "metadata": {
        "id": "9Q-J9xpqk2Li",
        "colab_type": "code",
        "colab": {
          "base_uri": "https://localhost:8080/",
          "height": 119
        },
        "outputId": "1b0ba284-683d-4d2d-bae2-46a383e42b9b"
      },
      "source": [
        "s.mask(s > 0)"
      ],
      "execution_count": 5,
      "outputs": [
        {
          "output_type": "execute_result",
          "data": {
            "text/plain": [
              "0    0.0\n",
              "1    NaN\n",
              "2    NaN\n",
              "3    NaN\n",
              "4    NaN\n",
              "dtype: float64"
            ]
          },
          "metadata": {
            "tags": []
          },
          "execution_count": 5
        }
      ]
    },
    {
      "cell_type": "code",
      "metadata": {
        "id": "FrOg7u5ck8dW",
        "colab_type": "code",
        "colab": {
          "base_uri": "https://localhost:8080/",
          "height": 119
        },
        "outputId": "6c031f7b-15c2-4706-9166-cf6a281afb78"
      },
      "source": [
        "s.where(s > 1, 10)"
      ],
      "execution_count": 6,
      "outputs": [
        {
          "output_type": "execute_result",
          "data": {
            "text/plain": [
              "0    10\n",
              "1    10\n",
              "2     2\n",
              "3     3\n",
              "4     4\n",
              "dtype: int64"
            ]
          },
          "metadata": {
            "tags": []
          },
          "execution_count": 6
        }
      ]
    }
  ]
}