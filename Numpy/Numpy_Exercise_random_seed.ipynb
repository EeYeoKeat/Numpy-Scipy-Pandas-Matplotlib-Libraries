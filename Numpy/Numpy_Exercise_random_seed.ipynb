{
  "nbformat": 4,
  "nbformat_minor": 0,
  "metadata": {
    "colab": {
      "name": "Numpy_Exercise_random_seed.ipynb",
      "provenance": [],
      "collapsed_sections": []
    },
    "kernelspec": {
      "name": "python3",
      "display_name": "Python 3"
    },
    "accelerator": "GPU"
  },
  "cells": [
    {
      "cell_type": "markdown",
      "metadata": {
        "id": "hLJK_b8gs__X",
        "colab_type": "text"
      },
      "source": [
        "NumPy random seed is simply a function that sets the random seed of the NumPy pseudo-random number generator. It provides an essential input that enables NumPy to generate pseudo-random numbers for random processes.\n",
        "\n",
        "Pseudo-random numbers is set of numbers that appear random, but they are predetermined.\n",
        "\n",
        "In simple words, Numpy seed is used to makesure the random numbers generated is repeatedly in every execution."
      ]
    },
    {
      "cell_type": "code",
      "metadata": {
        "id": "2FE2JML-s5L-",
        "colab_type": "code",
        "colab": {
          "base_uri": "https://localhost:8080/",
          "height": 34
        },
        "outputId": "2ce4f333-efe6-49bc-c3f1-215750f070c1"
      },
      "source": [
        "import numpy as np\n",
        "\n",
        "np.random.seed(0)\n",
        "np.random.randint(10, size = 5)"
      ],
      "execution_count": 1,
      "outputs": [
        {
          "output_type": "execute_result",
          "data": {
            "text/plain": [
              "array([5, 0, 3, 3, 7])"
            ]
          },
          "metadata": {
            "tags": []
          },
          "execution_count": 1
        }
      ]
    },
    {
      "cell_type": "markdown",
      "metadata": {
        "id": "hvl8S4iRvHZn",
        "colab_type": "text"
      },
      "source": [
        "So, let excute one more time to verify if same output will be obtained"
      ]
    },
    {
      "cell_type": "code",
      "metadata": {
        "id": "ikx_ONTWu9-N",
        "colab_type": "code",
        "colab": {
          "base_uri": "https://localhost:8080/",
          "height": 34
        },
        "outputId": "ee00cd80-d1c1-4e05-d4f1-63c3950a7859"
      },
      "source": [
        "np.random.seed(0)\n",
        "np.random.randint(10, size = 5)"
      ],
      "execution_count": 2,
      "outputs": [
        {
          "output_type": "execute_result",
          "data": {
            "text/plain": [
              "array([5, 0, 3, 3, 7])"
            ]
          },
          "metadata": {
            "tags": []
          },
          "execution_count": 2
        }
      ]
    },
    {
      "cell_type": "markdown",
      "metadata": {
        "id": "iBjuSXbE4MqX",
        "colab_type": "text"
      },
      "source": [
        "randint() is an inbuilt function of the random module in Python3. The random module gives access to various useful functions and one of them being able to generate random numbers, which is randint().\n",
        "\n",
        "Syntax : randint(start, end)"
      ]
    },
    {
      "cell_type": "code",
      "metadata": {
        "id": "WhZUWrQ0vOuE",
        "colab_type": "code",
        "colab": {
          "base_uri": "https://localhost:8080/",
          "height": 187
        },
        "outputId": "f7fcc690-44cf-48ad-bb39-b6c2bed2814c"
      },
      "source": [
        "for i in range(10):\n",
        "  a = np.random.randint(0, 10)\n",
        "  print(a)"
      ],
      "execution_count": 10,
      "outputs": [
        {
          "output_type": "stream",
          "text": [
            "0\n",
            "4\n",
            "3\n",
            "6\n",
            "9\n",
            "8\n",
            "0\n",
            "8\n",
            "5\n",
            "9\n"
          ],
          "name": "stdout"
        }
      ]
    },
    {
      "cell_type": "code",
      "metadata": {
        "id": "8LGumz6m3sJ3",
        "colab_type": "code",
        "colab": {
          "base_uri": "https://localhost:8080/",
          "height": 187
        },
        "outputId": "c2c2eccd-f288-407a-c1d5-530e10291791"
      },
      "source": [
        "for i in range(10):\n",
        "  a = np.random.randint(5, 10)\n",
        "  print(a)"
      ],
      "execution_count": 11,
      "outputs": [
        {
          "output_type": "stream",
          "text": [
            "5\n",
            "9\n",
            "6\n",
            "8\n",
            "6\n",
            "5\n",
            "5\n",
            "9\n",
            "8\n",
            "8\n"
          ],
          "name": "stdout"
        }
      ]
    },
    {
      "cell_type": "code",
      "metadata": {
        "id": "wZFCbJ454hR3",
        "colab_type": "code",
        "colab": {}
      },
      "source": [
        ""
      ],
      "execution_count": 0,
      "outputs": []
    }
  ]
}