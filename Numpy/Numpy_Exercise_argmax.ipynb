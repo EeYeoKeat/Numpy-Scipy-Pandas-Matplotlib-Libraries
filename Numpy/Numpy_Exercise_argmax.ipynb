{
  "nbformat": 4,
  "nbformat_minor": 0,
  "metadata": {
    "colab": {
      "name": "Numpy_Exercise_argmax.ipynb",
      "provenance": [],
      "collapsed_sections": []
    },
    "kernelspec": {
      "name": "python3",
      "display_name": "Python 3"
    },
    "accelerator": "GPU"
  },
  "cells": [
    {
      "cell_type": "code",
      "metadata": {
        "id": "uXsNAljetKB7",
        "colab_type": "code",
        "outputId": "a4bdedf6-1d35-417f-aa53-f75337b75ad6",
        "colab": {
          "base_uri": "https://localhost:8080/",
          "height": 34
        }
      },
      "source": [
        "import numpy as np \n",
        "\n",
        "sample = [100, 30, 600, 12, 200]\n",
        "sample"
      ],
      "execution_count": 0,
      "outputs": [
        {
          "output_type": "execute_result",
          "data": {
            "text/plain": [
              "[100, 30, 600, 12, 200]"
            ]
          },
          "metadata": {
            "tags": []
          },
          "execution_count": 1
        }
      ]
    },
    {
      "cell_type": "code",
      "metadata": {
        "id": "K75yjfdotpMA",
        "colab_type": "code",
        "outputId": "dd6a197e-037b-4326-9a62-7213054bbe03",
        "colab": {
          "base_uri": "https://localhost:8080/",
          "height": 34
        }
      },
      "source": [
        "np.argmax(sample)"
      ],
      "execution_count": 0,
      "outputs": [
        {
          "output_type": "execute_result",
          "data": {
            "text/plain": [
              "2"
            ]
          },
          "metadata": {
            "tags": []
          },
          "execution_count": 2
        }
      ]
    },
    {
      "cell_type": "markdown",
      "metadata": {
        "id": "En6wa2YUtySZ",
        "colab_type": "text"
      },
      "source": [
        "It return the position of the highest value"
      ]
    },
    {
      "cell_type": "code",
      "metadata": {
        "id": "JHqGdlHFt65Q",
        "colab_type": "code",
        "outputId": "5d6e1bc3-9d2d-4d70-efc5-8f8a43547520",
        "colab": {
          "base_uri": "https://localhost:8080/",
          "height": 34
        }
      },
      "source": [
        "sample2 = [5, 6, 7, 80, 100, 20]\n",
        "np.argmax(sample2)"
      ],
      "execution_count": 0,
      "outputs": [
        {
          "output_type": "execute_result",
          "data": {
            "text/plain": [
              "4"
            ]
          },
          "metadata": {
            "tags": []
          },
          "execution_count": 3
        }
      ]
    },
    {
      "cell_type": "code",
      "metadata": {
        "id": "vtIKM253uHZT",
        "colab_type": "code",
        "outputId": "3c6b7d4b-60ca-435c-d40b-790300404917",
        "colab": {
          "base_uri": "https://localhost:8080/",
          "height": 34
        }
      },
      "source": [
        "sample3 = [[5, 6, 80, 100, 20],[100, 30, 600, 12, 200]]\n",
        "np.argmax(sample3)"
      ],
      "execution_count": 0,
      "outputs": [
        {
          "output_type": "execute_result",
          "data": {
            "text/plain": [
              "7"
            ]
          },
          "metadata": {
            "tags": []
          },
          "execution_count": 4
        }
      ]
    },
    {
      "cell_type": "code",
      "metadata": {
        "id": "5et97zsSvd6Z",
        "colab_type": "code",
        "outputId": "bdd057a2-ad4f-4676-fc39-0fb71fc9a791",
        "colab": {
          "base_uri": "https://localhost:8080/",
          "height": 51
        }
      },
      "source": [
        "table1 = np.matrix([[1,2,3],[4,5,6]])\n",
        "table1"
      ],
      "execution_count": 0,
      "outputs": [
        {
          "output_type": "execute_result",
          "data": {
            "text/plain": [
              "matrix([[1, 2, 3],\n",
              "        [4, 5, 6]])"
            ]
          },
          "metadata": {
            "tags": []
          },
          "execution_count": 5
        }
      ]
    },
    {
      "cell_type": "code",
      "metadata": {
        "id": "6rReU_pMvpoQ",
        "colab_type": "code",
        "outputId": "c2aa9fd6-07af-4a4e-b36f-fbecdbd26a5c",
        "colab": {
          "base_uri": "https://localhost:8080/",
          "height": 51
        }
      },
      "source": [
        "table1[:,:]"
      ],
      "execution_count": 0,
      "outputs": [
        {
          "output_type": "execute_result",
          "data": {
            "text/plain": [
              "matrix([[1, 2, 3],\n",
              "        [4, 5, 6]])"
            ]
          },
          "metadata": {
            "tags": []
          },
          "execution_count": 6
        }
      ]
    },
    {
      "cell_type": "code",
      "metadata": {
        "id": "4462ZpTzvzd5",
        "colab_type": "code",
        "outputId": "9d3062dd-e794-4b00-ad65-f5fe39607209",
        "colab": {
          "base_uri": "https://localhost:8080/",
          "height": 34
        }
      },
      "source": [
        "# Call all element until end of 1st row\n",
        "table1[:1]"
      ],
      "execution_count": 0,
      "outputs": [
        {
          "output_type": "execute_result",
          "data": {
            "text/plain": [
              "matrix([[1, 2, 3]])"
            ]
          },
          "metadata": {
            "tags": []
          },
          "execution_count": 7
        }
      ]
    },
    {
      "cell_type": "code",
      "metadata": {
        "id": "DJE54D0tv7YS",
        "colab_type": "code",
        "outputId": "b028f9cb-275b-46f4-8885-5d5da2e2b48e",
        "colab": {
          "base_uri": "https://localhost:8080/",
          "height": 51
        }
      },
      "source": [
        "# Call all element until end of 2nd row\n",
        "table1[:2]"
      ],
      "execution_count": 0,
      "outputs": [
        {
          "output_type": "execute_result",
          "data": {
            "text/plain": [
              "matrix([[1, 2, 3],\n",
              "        [4, 5, 6]])"
            ]
          },
          "metadata": {
            "tags": []
          },
          "execution_count": 8
        }
      ]
    },
    {
      "cell_type": "code",
      "metadata": {
        "id": "cb_wrXjHv_qJ",
        "colab_type": "code",
        "outputId": "4dfa69b6-8eba-4dd5-ae21-5e387aa41b02",
        "colab": {
          "base_uri": "https://localhost:8080/",
          "height": 34
        }
      },
      "source": [
        "# first row and 2nd element (included index 0 element)\n",
        "table1[:1,2]"
      ],
      "execution_count": 0,
      "outputs": [
        {
          "output_type": "execute_result",
          "data": {
            "text/plain": [
              "matrix([[3]])"
            ]
          },
          "metadata": {
            "tags": []
          },
          "execution_count": 9
        }
      ]
    },
    {
      "cell_type": "code",
      "metadata": {
        "id": "DCOmLxHRwLUv",
        "colab_type": "code",
        "outputId": "0d24ba7f-c1a8-449c-f018-edaad76a6b1d",
        "colab": {
          "base_uri": "https://localhost:8080/",
          "height": 51
        }
      },
      "source": [
        "# to get number '2' and '5' in axis 1 until 2nd row\n",
        "table1[:2,1]"
      ],
      "execution_count": 0,
      "outputs": [
        {
          "output_type": "execute_result",
          "data": {
            "text/plain": [
              "matrix([[2],\n",
              "        [5]])"
            ]
          },
          "metadata": {
            "tags": []
          },
          "execution_count": 10
        }
      ]
    },
    {
      "cell_type": "code",
      "metadata": {
        "id": "mJqzXW0owdcG",
        "colab_type": "code",
        "outputId": "9bde3567-8c0d-406e-dbb2-b4a90bc91c08",
        "colab": {
          "base_uri": "https://localhost:8080/",
          "height": 51
        }
      },
      "source": [
        "# to get number '3' and '6' in axis 2 until 2nd row\n",
        "table1[:2,2]"
      ],
      "execution_count": 0,
      "outputs": [
        {
          "output_type": "execute_result",
          "data": {
            "text/plain": [
              "matrix([[3],\n",
              "        [6]])"
            ]
          },
          "metadata": {
            "tags": []
          },
          "execution_count": 11
        }
      ]
    },
    {
      "cell_type": "code",
      "metadata": {
        "id": "PoGRSXdqsxh_",
        "colab_type": "code",
        "outputId": "2f2ced84-4bd7-452c-a139-e06c477dccd0",
        "colab": {
          "base_uri": "https://localhost:8080/",
          "height": 68
        }
      },
      "source": [
        "A = np.matrix([[1,2,3,33],[4,5,6,66],[7,8,9,99]])\n",
        "A"
      ],
      "execution_count": 0,
      "outputs": [
        {
          "output_type": "execute_result",
          "data": {
            "text/plain": [
              "matrix([[ 1,  2,  3, 33],\n",
              "        [ 4,  5,  6, 66],\n",
              "        [ 7,  8,  9, 99]])"
            ]
          },
          "metadata": {
            "tags": []
          },
          "execution_count": 12
        }
      ]
    },
    {
      "cell_type": "markdown",
      "metadata": {
        "id": "6eaE4IX5Jxk-",
        "colab_type": "text"
      },
      "source": [
        "matrix(\n",
        "<br>[[ 1,  2,  3, 33], ***row 0***\n",
        "<br>[ 4,  5,  6, 66], ***row 1***\n",
        "<br>[ 7,  8,  9, 99]]) ***row 2***\n",
        "<br> *a0 a1 a2 a3*\n",
        "<br> **a** indicate **axis**"
      ]
    },
    {
      "cell_type": "code",
      "metadata": {
        "id": "725OTsfmu4nf",
        "colab_type": "code",
        "outputId": "f4ffe6c6-1348-4c5e-be40-ed2db229803d",
        "colab": {
          "base_uri": "https://localhost:8080/",
          "height": 34
        }
      },
      "source": [
        "A.shape"
      ],
      "execution_count": 0,
      "outputs": [
        {
          "output_type": "execute_result",
          "data": {
            "text/plain": [
              "(3, 4)"
            ]
          },
          "metadata": {
            "tags": []
          },
          "execution_count": 13
        }
      ]
    },
    {
      "cell_type": "code",
      "metadata": {
        "id": "SxMA3cGytZFv",
        "colab_type": "code",
        "outputId": "6bf44e1d-946b-45e8-a7ee-2fca07fc45e1",
        "colab": {
          "base_uri": "https://localhost:8080/",
          "height": 34
        }
      },
      "source": [
        "np.argmax(A)  # 11, which is the position of 99"
      ],
      "execution_count": 0,
      "outputs": [
        {
          "output_type": "execute_result",
          "data": {
            "text/plain": [
              "11"
            ]
          },
          "metadata": {
            "tags": []
          },
          "execution_count": 14
        }
      ]
    },
    {
      "cell_type": "code",
      "metadata": {
        "id": "Sil-v4u9tZoP",
        "colab_type": "code",
        "outputId": "4046085e-bc50-4dc8-b773-66bb212a1d59",
        "colab": {
          "base_uri": "https://localhost:8080/",
          "height": 34
        }
      },
      "source": [
        "np.argmax(A[:,:])  # 11, which is the position of 99"
      ],
      "execution_count": 0,
      "outputs": [
        {
          "output_type": "execute_result",
          "data": {
            "text/plain": [
              "11"
            ]
          },
          "metadata": {
            "tags": []
          },
          "execution_count": 15
        }
      ]
    },
    {
      "cell_type": "code",
      "metadata": {
        "id": "P7WiDVzSthgy",
        "colab_type": "code",
        "outputId": "028ebba1-a8dd-498d-ef75-3a027f999597",
        "colab": {
          "base_uri": "https://localhost:8080/",
          "height": 34
        }
      },
      "source": [
        "# until first row only\n",
        "np.argmax(A[:1])  # 3, which is the position of 33"
      ],
      "execution_count": 0,
      "outputs": [
        {
          "output_type": "execute_result",
          "data": {
            "text/plain": [
              "3"
            ]
          },
          "metadata": {
            "tags": []
          },
          "execution_count": 16
        }
      ]
    },
    {
      "cell_type": "code",
      "metadata": {
        "id": "rQ3u-MY5tkYg",
        "colab_type": "code",
        "outputId": "7503560a-5504-4c39-eac9-baa514eabe14",
        "colab": {
          "base_uri": "https://localhost:8080/",
          "height": 34
        }
      },
      "source": [
        "# until all row in axis 2\n",
        "np.argmax(A[:,2])  # 2, which is the position of 9"
      ],
      "execution_count": 0,
      "outputs": [
        {
          "output_type": "execute_result",
          "data": {
            "text/plain": [
              "2"
            ]
          },
          "metadata": {
            "tags": []
          },
          "execution_count": 17
        }
      ]
    },
    {
      "cell_type": "code",
      "metadata": {
        "id": "y6NEYiMotlzR",
        "colab_type": "code",
        "outputId": "1aeef7a8-6cce-4e61-d363-d3db8f4fc913",
        "colab": {
          "base_uri": "https://localhost:8080/",
          "height": 34
        }
      },
      "source": [
        "# start after first row, but only axis 2, so not included other axis\n",
        "np.argmax(A[1:,2])  # 1, which is the position of 9"
      ],
      "execution_count": 0,
      "outputs": [
        {
          "output_type": "execute_result",
          "data": {
            "text/plain": [
              "1"
            ]
          },
          "metadata": {
            "tags": []
          },
          "execution_count": 18
        }
      ]
    }
  ]
}