{
  "nbformat": 4,
  "nbformat_minor": 0,
  "metadata": {
    "colab": {
      "name": "Numpy_Exercise_argsort.ipynb",
      "provenance": [],
      "collapsed_sections": []
    },
    "kernelspec": {
      "name": "python3",
      "display_name": "Python 3"
    },
    "accelerator": "GPU"
  },
  "cells": [
    {
      "cell_type": "markdown",
      "metadata": {
        "id": "WsaOFDvQHFmf",
        "colab_type": "text"
      },
      "source": [
        "`numpy.argsort(a, axis=-1, kind=None, order=None)` <br>\n",
        "Returns the indices that would sort an array. It works with real/complex arrays containing nan values."
      ]
    },
    {
      "cell_type": "code",
      "metadata": {
        "id": "J8552t0Duudt",
        "colab_type": "code",
        "colab": {}
      },
      "source": [
        "import numpy as np"
      ],
      "execution_count": 0,
      "outputs": []
    },
    {
      "cell_type": "code",
      "metadata": {
        "id": "nsNhJtEWHocf",
        "colab_type": "code",
        "outputId": "f08ecdb5-6a59-4bf6-e019-51475cec9fb8",
        "colab": {
          "base_uri": "https://localhost:8080/",
          "height": 34
        }
      },
      "source": [
        "x = np.array([6, 4, 5])\n",
        "np.argsort(x)"
      ],
      "execution_count": 2,
      "outputs": [
        {
          "output_type": "execute_result",
          "data": {
            "text/plain": [
              "array([1, 2, 0])"
            ]
          },
          "metadata": {
            "tags": []
          },
          "execution_count": 2
        }
      ]
    },
    {
      "cell_type": "markdown",
      "metadata": {
        "id": "mnlJS37cH1xG",
        "colab_type": "text"
      },
      "source": [
        "Note that it return the indices, not the values. In the case above, the smallest number is 1 which located at index 1, while the largest is 3 at index 0. Therefore, the sorted indices is from smallest to biggest value."
      ]
    },
    {
      "cell_type": "code",
      "metadata": {
        "id": "XFFyk6z3H0G-",
        "colab_type": "code",
        "outputId": "6769a1cd-c9f1-4c83-e47d-80ccec2ad112",
        "colab": {
          "base_uri": "https://localhost:8080/",
          "height": 51
        }
      },
      "source": [
        "x = np.array([[10, 11], [12, 13]])\n",
        "x"
      ],
      "execution_count": 3,
      "outputs": [
        {
          "output_type": "execute_result",
          "data": {
            "text/plain": [
              "array([[10, 11],\n",
              "       [12, 13]])"
            ]
          },
          "metadata": {
            "tags": []
          },
          "execution_count": 3
        }
      ]
    },
    {
      "cell_type": "code",
      "metadata": {
        "id": "w7EkxlaJIjvF",
        "colab_type": "code",
        "outputId": "123e8896-9bc7-4dd7-cbaa-e14e00f8456d",
        "colab": {
          "base_uri": "https://localhost:8080/",
          "height": 51
        }
      },
      "source": [
        "sorted_x = np.argsort(x, axis=0)  # sorts along first axis (down)\n",
        "sorted_x"
      ],
      "execution_count": 4,
      "outputs": [
        {
          "output_type": "execute_result",
          "data": {
            "text/plain": [
              "array([[0, 0],\n",
              "       [1, 1]])"
            ]
          },
          "metadata": {
            "tags": []
          },
          "execution_count": 4
        }
      ]
    },
    {
      "cell_type": "code",
      "metadata": {
        "id": "L8jtieHwI0l3",
        "colab_type": "code",
        "outputId": "e607d646-83de-4e13-b5dc-9379e61ef14d",
        "colab": {
          "base_uri": "https://localhost:8080/",
          "height": 51
        }
      },
      "source": [
        "np.take_along_axis(x, sorted_x, axis=0)  # same as np.sort(x, axis=0)"
      ],
      "execution_count": 5,
      "outputs": [
        {
          "output_type": "execute_result",
          "data": {
            "text/plain": [
              "array([[10, 11],\n",
              "       [12, 13]])"
            ]
          },
          "metadata": {
            "tags": []
          },
          "execution_count": 5
        }
      ]
    },
    {
      "cell_type": "code",
      "metadata": {
        "id": "fRvMA5lyK67f",
        "colab_type": "code",
        "outputId": "4b786b84-20d7-4ea9-9113-290ada41383f",
        "colab": {
          "base_uri": "https://localhost:8080/",
          "height": 51
        }
      },
      "source": [
        "y = np.array([[12, 11], [10, 13]])\n",
        "y"
      ],
      "execution_count": 6,
      "outputs": [
        {
          "output_type": "execute_result",
          "data": {
            "text/plain": [
              "array([[12, 11],\n",
              "       [10, 13]])"
            ]
          },
          "metadata": {
            "tags": []
          },
          "execution_count": 6
        }
      ]
    },
    {
      "cell_type": "code",
      "metadata": {
        "id": "5C94LOztLMD6",
        "colab_type": "code",
        "outputId": "0d016fc1-b7e5-4e30-c308-8486fa309fd4",
        "colab": {
          "base_uri": "https://localhost:8080/",
          "height": 51
        }
      },
      "source": [
        "sorted_y = np.argsort(y, axis=0)  # sorts along first axis (down)\n",
        "sorted_y"
      ],
      "execution_count": 7,
      "outputs": [
        {
          "output_type": "execute_result",
          "data": {
            "text/plain": [
              "array([[1, 0],\n",
              "       [0, 1]])"
            ]
          },
          "metadata": {
            "tags": []
          },
          "execution_count": 7
        }
      ]
    },
    {
      "cell_type": "code",
      "metadata": {
        "id": "njB1bY5_LQPq",
        "colab_type": "code",
        "outputId": "ceb17aa5-7ff1-46c1-cdda-c64295e68cba",
        "colab": {
          "base_uri": "https://localhost:8080/",
          "height": 68
        }
      },
      "source": [
        "j = np.array([[12,11,10], [10,11,13], [11,12,13]])\n",
        "j"
      ],
      "execution_count": 8,
      "outputs": [
        {
          "output_type": "execute_result",
          "data": {
            "text/plain": [
              "array([[12, 11, 10],\n",
              "       [10, 11, 13],\n",
              "       [11, 12, 13]])"
            ]
          },
          "metadata": {
            "tags": []
          },
          "execution_count": 8
        }
      ]
    },
    {
      "cell_type": "code",
      "metadata": {
        "id": "RIAsv4WLLmdz",
        "colab_type": "code",
        "outputId": "f395e42e-590f-4334-f9ee-9e94fc836e0f",
        "colab": {
          "base_uri": "https://localhost:8080/",
          "height": 68
        }
      },
      "source": [
        "sorted_j = np.argsort(j, axis=0)  # sorts along first axis (down)\n",
        "sorted_j"
      ],
      "execution_count": 9,
      "outputs": [
        {
          "output_type": "execute_result",
          "data": {
            "text/plain": [
              "array([[1, 0, 0],\n",
              "       [2, 1, 1],\n",
              "       [0, 2, 2]])"
            ]
          },
          "metadata": {
            "tags": []
          },
          "execution_count": 9
        }
      ]
    },
    {
      "cell_type": "code",
      "metadata": {
        "id": "JhPDysTzLt8u",
        "colab_type": "code",
        "outputId": "cb812dfb-4da1-4205-b1d0-bf0928015ced",
        "colab": {
          "base_uri": "https://localhost:8080/",
          "height": 68
        }
      },
      "source": [
        "sorted_j_first_axis = np.argsort(j, axis=1)  # sorts along first axis (down)\n",
        "sorted_j_first_axis"
      ],
      "execution_count": 10,
      "outputs": [
        {
          "output_type": "execute_result",
          "data": {
            "text/plain": [
              "array([[2, 1, 0],\n",
              "       [0, 1, 2],\n",
              "       [0, 1, 2]])"
            ]
          },
          "metadata": {
            "tags": []
          },
          "execution_count": 10
        }
      ]
    },
    {
      "cell_type": "code",
      "metadata": {
        "id": "-LdoY_6IOCdj",
        "colab_type": "code",
        "colab": {
          "base_uri": "https://localhost:8080/",
          "height": 34
        },
        "outputId": "9619d2dc-43db-48ac-b45a-f43aa5f38fe7"
      },
      "source": [
        "p = np.array([15, 18, 20])\n",
        "sorted_p = p.argsort()[-2:][::-1]\n",
        "sorted_p"
      ],
      "execution_count": 13,
      "outputs": [
        {
          "output_type": "execute_result",
          "data": {
            "text/plain": [
              "array([2, 1])"
            ]
          },
          "metadata": {
            "tags": []
          },
          "execution_count": 13
        }
      ]
    },
    {
      "cell_type": "markdown",
      "metadata": {
        "id": "gq1lf_d0ImXs",
        "colab_type": "text"
      },
      "source": [
        "Let's understand this code \n",
        "\n",
        "```\n",
        "x.argsort()[-j:][::-k]\n",
        "```\n",
        "\n"
      ]
    },
    {
      "cell_type": "code",
      "metadata": {
        "id": "8lNG54W8D1nd",
        "colab_type": "code",
        "colab": {
          "base_uri": "https://localhost:8080/",
          "height": 34
        },
        "outputId": "7386e28c-72a7-4949-934b-10d72ed9ea6f"
      },
      "source": [
        "a = np.array([1,2,3,4,5,6,7,8,9,10])\n",
        "a[-2:] # return the element from last second"
      ],
      "execution_count": 14,
      "outputs": [
        {
          "output_type": "execute_result",
          "data": {
            "text/plain": [
              "array([ 9, 10])"
            ]
          },
          "metadata": {
            "tags": []
          },
          "execution_count": 14
        }
      ]
    },
    {
      "cell_type": "code",
      "metadata": {
        "id": "tu_Y7-oNFtvs",
        "colab_type": "code",
        "colab": {
          "base_uri": "https://localhost:8080/",
          "height": 34
        },
        "outputId": "79d1a996-0dee-444b-da05-3ed825b41d0f"
      },
      "source": [
        "a[::-1] # reverse the order arrangment"
      ],
      "execution_count": 15,
      "outputs": [
        {
          "output_type": "execute_result",
          "data": {
            "text/plain": [
              "array([10,  9,  8,  7,  6,  5,  4,  3,  2,  1])"
            ]
          },
          "metadata": {
            "tags": []
          },
          "execution_count": 15
        }
      ]
    },
    {
      "cell_type": "code",
      "metadata": {
        "id": "7sS9tc0AGOHM",
        "colab_type": "code",
        "colab": {
          "base_uri": "https://localhost:8080/",
          "height": 34
        },
        "outputId": "1b0bf4ba-ba18-40bc-d2e7-acb916fbfdca"
      },
      "source": [
        "a[-2:][::-1]"
      ],
      "execution_count": 16,
      "outputs": [
        {
          "output_type": "execute_result",
          "data": {
            "text/plain": [
              "array([10,  9])"
            ]
          },
          "metadata": {
            "tags": []
          },
          "execution_count": 16
        }
      ]
    },
    {
      "cell_type": "code",
      "metadata": {
        "id": "nVtwBTQ2ITRr",
        "colab_type": "code",
        "colab": {
          "base_uri": "https://localhost:8080/",
          "height": 34
        },
        "outputId": "842103a4-3a28-4878-b423-030e3ba5142e"
      },
      "source": [
        "a.argsort()"
      ],
      "execution_count": 21,
      "outputs": [
        {
          "output_type": "execute_result",
          "data": {
            "text/plain": [
              "array([0, 1, 2, 3, 4, 5, 6, 7, 8, 9])"
            ]
          },
          "metadata": {
            "tags": []
          },
          "execution_count": 21
        }
      ]
    },
    {
      "cell_type": "code",
      "metadata": {
        "id": "cSAi9PuTIbzT",
        "colab_type": "code",
        "colab": {
          "base_uri": "https://localhost:8080/",
          "height": 34
        },
        "outputId": "3ba80f0d-8770-43a3-bc0f-134cb358a279"
      },
      "source": [
        "a.argsort()[-10:]"
      ],
      "execution_count": 22,
      "outputs": [
        {
          "output_type": "execute_result",
          "data": {
            "text/plain": [
              "array([0, 1, 2, 3, 4, 5, 6, 7, 8, 9])"
            ]
          },
          "metadata": {
            "tags": []
          },
          "execution_count": 22
        }
      ]
    },
    {
      "cell_type": "code",
      "metadata": {
        "id": "44vLgZfqH7D1",
        "colab_type": "code",
        "colab": {
          "base_uri": "https://localhost:8080/",
          "height": 34
        },
        "outputId": "939762f3-cb6b-4493-b5a3-1fdccd177199"
      },
      "source": [
        "a.argsort()[-10:][::-1]"
      ],
      "execution_count": 20,
      "outputs": [
        {
          "output_type": "execute_result",
          "data": {
            "text/plain": [
              "array([9, 8, 7, 6, 5, 4, 3, 2, 1, 0])"
            ]
          },
          "metadata": {
            "tags": []
          },
          "execution_count": 20
        }
      ]
    }
  ]
}