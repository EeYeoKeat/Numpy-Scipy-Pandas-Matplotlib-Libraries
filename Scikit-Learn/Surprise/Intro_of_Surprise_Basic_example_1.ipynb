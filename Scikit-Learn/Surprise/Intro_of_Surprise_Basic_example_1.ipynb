{
  "nbformat": 4,
  "nbformat_minor": 0,
  "metadata": {
    "colab": {
      "name": "Intro of Surprise - Basic example 1.ipynb",
      "provenance": [],
      "collapsed_sections": []
    },
    "kernelspec": {
      "name": "python3",
      "display_name": "Python 3"
    },
    "accelerator": "GPU"
  },
  "cells": [
    {
      "cell_type": "markdown",
      "metadata": {
        "id": "qRrExabMhPeg",
        "colab_type": "text"
      },
      "source": [
        "**Surprise** is a Python scikit building and analyzing recommender systems that deal with explicit rating data.\n",
        "\n",
        "The library provide various ready-to-use prediction algorithms such as baseline algorithms, neighborhood methods, matrix factorization-based ( SVD, PMF, SVD++, NMF), and many others. Also, various similarity measures (cosine, MSD, pearson…) are built-in.\n",
        "\n",
        "Below getting started example is showing how to load a built-in dataset, and using SVD algorithm, then evaluate with 5-fold cross-validation, and compute the MAE and RMSE of the SVD algorithm"
      ]
    },
    {
      "cell_type": "code",
      "metadata": {
        "id": "RbtxrmJ3mtVK",
        "colab_type": "code",
        "outputId": "5ed4ed92-b4f2-49b4-ddd8-82ec9c6c4fcf",
        "colab": {
          "base_uri": "https://localhost:8080/",
          "height": 309
        }
      },
      "source": [
        "# Install surprise in Colab\n",
        "!pip install surprise"
      ],
      "execution_count": 1,
      "outputs": [
        {
          "output_type": "stream",
          "text": [
            "Collecting surprise\n",
            "  Downloading https://files.pythonhosted.org/packages/61/de/e5cba8682201fcf9c3719a6fdda95693468ed061945493dea2dd37c5618b/surprise-0.1-py2.py3-none-any.whl\n",
            "Collecting scikit-surprise\n",
            "\u001b[?25l  Downloading https://files.pythonhosted.org/packages/f5/da/b5700d96495fb4f092be497f02492768a3d96a3f4fa2ae7dea46d4081cfa/scikit-surprise-1.1.0.tar.gz (6.4MB)\n",
            "\u001b[K     |████████████████████████████████| 6.5MB 7.0MB/s \n",
            "\u001b[?25hRequirement already satisfied: joblib>=0.11 in /usr/local/lib/python3.6/dist-packages (from scikit-surprise->surprise) (0.14.0)\n",
            "Requirement already satisfied: numpy>=1.11.2 in /usr/local/lib/python3.6/dist-packages (from scikit-surprise->surprise) (1.17.3)\n",
            "Requirement already satisfied: scipy>=1.0.0 in /usr/local/lib/python3.6/dist-packages (from scikit-surprise->surprise) (1.3.1)\n",
            "Requirement already satisfied: six>=1.10.0 in /usr/local/lib/python3.6/dist-packages (from scikit-surprise->surprise) (1.12.0)\n",
            "Building wheels for collected packages: scikit-surprise\n",
            "  Building wheel for scikit-surprise (setup.py) ... \u001b[?25l\u001b[?25hdone\n",
            "  Created wheel for scikit-surprise: filename=scikit_surprise-1.1.0-cp36-cp36m-linux_x86_64.whl size=1678062 sha256=3f4de0d72b7eb6a2144be50e6b1cc14e7252855aed108acfb3df4c7bc6e3e5c1\n",
            "  Stored in directory: /root/.cache/pip/wheels/cc/fa/8c/16c93fccce688ae1bde7d979ff102f7bee980d9cfeb8641bcf\n",
            "Successfully built scikit-surprise\n",
            "Installing collected packages: scikit-surprise, surprise\n",
            "Successfully installed scikit-surprise-1.1.0 surprise-0.1\n"
          ],
          "name": "stdout"
        }
      ]
    },
    {
      "cell_type": "code",
      "metadata": {
        "id": "aGZ6jUShIZjG",
        "colab_type": "code",
        "outputId": "5eea6736-83a3-4aef-b680-22847e5952a8",
        "colab": {
          "base_uri": "https://localhost:8080/",
          "height": 340
        }
      },
      "source": [
        "from surprise import SVD\n",
        "from surprise import Dataset\n",
        "from surprise.model_selection import cross_validate\n",
        "\n",
        "# Load the movielens-100k dataset (download it if needed).\n",
        "# MovieLens 100K movie ratings. Stable benchmark dataset.\n",
        "# 100,000 ratings from 1000 users on 1700 movies\n",
        "data = Dataset.load_builtin('ml-100k')\n",
        "\n",
        "# Use the famous SVD algorithm.\n",
        "algo = SVD()\n",
        "\n",
        "# Run 5-fold cross-validation and print results.\n",
        "cross_validate(algo, data, measures=['RMSE', 'MAE'], cv=5, verbose=True)"
      ],
      "execution_count": 0,
      "outputs": [
        {
          "output_type": "stream",
          "text": [
            "Evaluating RMSE, MAE of algorithm SVD on 5 split(s).\n",
            "\n",
            "                  Fold 1  Fold 2  Fold 3  Fold 4  Fold 5  Mean    Std     \n",
            "RMSE (testset)    0.9277  0.9342  0.9406  0.9372  0.9418  0.9363  0.0050  \n",
            "MAE (testset)     0.7329  0.7369  0.7392  0.7411  0.7422  0.7385  0.0033  \n",
            "Fit time          5.03    5.07    5.05    5.07    5.04    5.05    0.02    \n",
            "Test time         0.18    0.23    0.24    0.18    0.18    0.20    0.03    \n"
          ],
          "name": "stdout"
        },
        {
          "output_type": "execute_result",
          "data": {
            "text/plain": [
              "{'fit_time': (5.034210681915283,\n",
              "  5.069084167480469,\n",
              "  5.047375202178955,\n",
              "  5.074594259262085,\n",
              "  5.040354251861572),\n",
              " 'test_mae': array([0.73289029, 0.73693248, 0.73923486, 0.74107642, 0.74216669]),\n",
              " 'test_rmse': array([0.92771643, 0.93415597, 0.94057811, 0.93722889, 0.94175584]),\n",
              " 'test_time': (0.18220758438110352,\n",
              "  0.23111248016357422,\n",
              "  0.24141383171081543,\n",
              "  0.17707276344299316,\n",
              "  0.18076539039611816)}"
            ]
          },
          "metadata": {
            "tags": []
          },
          "execution_count": 5
        }
      ]
    },
    {
      "cell_type": "markdown",
      "metadata": {
        "id": "88niltEQqkLc",
        "colab_type": "text"
      },
      "source": [
        "From above results, we can get the mean of RMSE 0.936 and MAE 0.739.\n",
        "\n",
        "Cross-validation model is one of the validation techniques for assessing how the results of a statistical analysis. <br>\n",
        "The train/test split has weakness when dealing with the data which is not random or the data has only certain portion. Therefore, k-fold cross validation is introduced to tackle this problem. <br>\n",
        "\n",
        "Cross validation technique significantly reduces underfitting as we are using most of the data for fitting, and also significantly reduces overfitting as most of the data is also being used in validation set.\n",
        "\n",
        "![alt text](https://github.com/EeYeoKeat/Numpy-Scipy-Pandas-Matplotlib-Sklearn-Tutorials/blob/master/Scikit-Learn/Surprise/img/cross-validation.png?raw=true)\n",
        "\n",
        "As the number of folds increasing the error due the bias decreasing but increasing the error due to variance"
      ]
    },
    {
      "cell_type": "code",
      "metadata": {
        "id": "tb0g4Wfhmm3z",
        "colab_type": "code",
        "outputId": "3bf1ae6a-c57c-480b-8030-98c767393dc1",
        "colab": {
          "base_uri": "https://localhost:8080/",
          "height": 34
        }
      },
      "source": [
        "# Let's check the data\n",
        "print(data)"
      ],
      "execution_count": 0,
      "outputs": [
        {
          "output_type": "stream",
          "text": [
            "<surprise.dataset.DatasetAutoFolds object at 0x7ffa6cab2e80>\n"
          ],
          "name": "stdout"
        }
      ]
    },
    {
      "cell_type": "code",
      "metadata": {
        "id": "TNNsmwWXDLIo",
        "colab_type": "code",
        "outputId": "44478bfb-fa61-4362-895b-b095c9f802a7",
        "colab": {
          "base_uri": "https://localhost:8080/",
          "height": 34
        }
      },
      "source": [
        "algo"
      ],
      "execution_count": 0,
      "outputs": [
        {
          "output_type": "execute_result",
          "data": {
            "text/plain": [
              "<surprise.prediction_algorithms.matrix_factorization.SVD at 0x7ffa6ade31d0>"
            ]
          },
          "metadata": {
            "tags": []
          },
          "execution_count": 13
        }
      ]
    },
    {
      "cell_type": "markdown",
      "metadata": {
        "id": "RWXS6bIgFY8V",
        "colab_type": "text"
      },
      "source": [
        "Other than cross-validation method, we can also use typical train_test_split() to split into a trainset and a testset with given sizes, and use the accuracy metric to evaluate."
      ]
    },
    {
      "cell_type": "code",
      "metadata": {
        "id": "Pu_9YX8iDRMf",
        "colab_type": "code",
        "outputId": "ad0bba90-3726-443a-da46-cca96b110e54",
        "colab": {
          "base_uri": "https://localhost:8080/",
          "height": 51
        }
      },
      "source": [
        "from surprise import SVD\n",
        "from surprise import Dataset\n",
        "from surprise import accuracy\n",
        "from surprise.model_selection import train_test_split\n",
        "\n",
        "# Load the movielens-100k dataset (download it if needed),\n",
        "data = Dataset.load_builtin('ml-100k')\n",
        "\n",
        "# sample random trainset and testset\n",
        "# test set is made of 25% of the ratings.\n",
        "trainset, testset = train_test_split(data, test_size=.25)\n",
        "\n",
        "# We'll use the famous SVD algorithm.\n",
        "algo = SVD()\n",
        "\n",
        "# Train the algorithm on the trainset, and predict ratings for the testset\n",
        "algo.fit(trainset)\n",
        "predictions = algo.test(testset)\n",
        "\n",
        "# Then compute RMSE\n",
        "accuracy.rmse(predictions)"
      ],
      "execution_count": 0,
      "outputs": [
        {
          "output_type": "stream",
          "text": [
            "RMSE: 0.9352\n"
          ],
          "name": "stdout"
        },
        {
          "output_type": "execute_result",
          "data": {
            "text/plain": [
              "0.9351812745135517"
            ]
          },
          "metadata": {
            "tags": []
          },
          "execution_count": 14
        }
      ]
    },
    {
      "cell_type": "code",
      "metadata": {
        "id": "OrCLhcjFuZj0",
        "colab_type": "code",
        "colab": {
          "base_uri": "https://localhost:8080/",
          "height": 119
        },
        "outputId": "acfee84c-5d21-499f-e246-a1656b18bbb4"
      },
      "source": [
        "from surprise import KNNBasic\n",
        "from surprise import Dataset\n",
        "\n",
        "# Load the movielens-100k dataset\n",
        "data = Dataset.load_builtin('ml-100k')\n",
        "\n",
        "# Retrieve the trainset.\n",
        "trainset = data.build_full_trainset()\n",
        "\n",
        "# Build an algorithm, and train it.\n",
        "algo = KNNBasic()\n",
        "algo.fit(trainset)"
      ],
      "execution_count": 7,
      "outputs": [
        {
          "output_type": "stream",
          "text": [
            "Dataset ml-100k could not be found. Do you want to download it? [Y/n] Y\n",
            "Trying to download dataset from http://files.grouplens.org/datasets/movielens/ml-100k.zip...\n",
            "Done! Dataset ml-100k has been saved to /root/.surprise_data/ml-100k\n",
            "Computing the msd similarity matrix...\n",
            "Done computing similarity matrix.\n"
          ],
          "name": "stdout"
        },
        {
          "output_type": "execute_result",
          "data": {
            "text/plain": [
              "<surprise.prediction_algorithms.knns.KNNBasic at 0x7fd918098e80>"
            ]
          },
          "metadata": {
            "tags": []
          },
          "execution_count": 7
        }
      ]
    },
    {
      "cell_type": "markdown",
      "metadata": {
        "id": "0pxVqpjGx14k",
        "colab_type": "text"
      },
      "source": [
        "Then, it can predict ratings by directly calling the predict() method."
      ]
    },
    {
      "cell_type": "code",
      "metadata": {
        "id": "k9GAe__JvloG",
        "colab_type": "code",
        "colab": {
          "base_uri": "https://localhost:8080/",
          "height": 34
        },
        "outputId": "f4903e99-a0e2-499d-e957-93f916258f05"
      },
      "source": [
        "uid = str(196)  # raw user id (as in the ratings file). They are **strings**!\n",
        "iid = str(302)  # raw item id (as in the ratings file). They are **strings**!\n",
        "\n",
        "# get a prediction for specific users and items.\n",
        "pred = algo.predict(uid, iid, r_ui=4, verbose=True)"
      ],
      "execution_count": 8,
      "outputs": [
        {
          "output_type": "stream",
          "text": [
            "user: 196        item: 302        r_ui = 4.00   est = 4.06   {'actual_k': 40, 'was_impossible': False}\n"
          ],
          "name": "stdout"
        }
      ]
    }
  ]
}