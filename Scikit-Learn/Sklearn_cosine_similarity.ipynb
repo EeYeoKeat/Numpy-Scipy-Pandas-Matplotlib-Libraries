{
  "nbformat": 4,
  "nbformat_minor": 0,
  "metadata": {
    "colab": {
      "name": "Sklearn_cosine_similarity.ipynb",
      "provenance": []
    },
    "kernelspec": {
      "name": "python3",
      "display_name": "Python 3"
    },
    "accelerator": "GPU"
  },
  "cells": [
    {
      "cell_type": "code",
      "metadata": {
        "id": "KKrEa11e3UV9",
        "colab_type": "code",
        "colab": {}
      },
      "source": [
        "def test_cosine_similarity():\n",
        "    # Test the cosine_similarity.\n",
        "\n",
        "    rng = np.random.RandomState(0)\n",
        "    X = rng.random_sample((5, 4))\n",
        "    Y = rng.random_sample((3, 4))\n",
        "    Xcsr = csr_matrix(X)\n",
        "    Ycsr = csr_matrix(Y)\n",
        "\n",
        "    for X_, Y_ in ((X, None), (X, Y),\n",
        "                   (Xcsr, None), (Xcsr, Ycsr)):\n",
        "        # Test that the cosine is kernel is equal to a linear kernel when data\n",
        "        # has been previously normalized by L2-norm.\n",
        "        K1 = pairwise_kernels(X_, Y=Y_, metric=\"cosine\")\n",
        "        X_ = normalize(X_)\n",
        "        if Y_ is not None:\n",
        "            Y_ = normalize(Y_)\n",
        "        K2 = pairwise_kernels(X_, Y=Y_, metric=\"linear\")\n",
        "        assert_array_almost_equal(K1, K2) "
      ],
      "execution_count": 1,
      "outputs": []
    },
    {
      "cell_type": "code",
      "metadata": {
        "id": "ud6fcurv5dcJ",
        "colab_type": "code",
        "colab": {}
      },
      "source": [
        ""
      ],
      "execution_count": null,
      "outputs": []
    }
  ]
}