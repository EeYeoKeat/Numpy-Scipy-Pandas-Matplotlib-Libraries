{
  "nbformat": 4,
  "nbformat_minor": 0,
  "metadata": {
    "colab": {
      "name": "Python_Exercise_tqdm.ipynb",
      "provenance": [],
      "collapsed_sections": []
    },
    "kernelspec": {
      "name": "python3",
      "display_name": "Python 3"
    },
    "accelerator": "GPU"
  },
  "cells": [
    {
      "cell_type": "markdown",
      "metadata": {
        "id": "3dw8OL_VzTDZ",
        "colab_type": "text"
      },
      "source": [
        "**tqdm** enable us to visualize the progress bars which make data processing jobs clear\n",
        "\n",
        "**tqdm** means \"progress\" in Arabic (taqadum, تقدّم) and is an abbreviation for \"I love you so much\" in Spanish (te quiero demasiado)."
      ]
    },
    {
      "cell_type": "code",
      "metadata": {
        "id": "BwWTg7ZEyyae",
        "colab_type": "code",
        "colab": {
          "base_uri": "https://localhost:8080/",
          "height": 204
        },
        "outputId": "cf68e0df-cb3d-412f-c67e-52affae9afda"
      },
      "source": [
        "from tqdm import tqdm\n",
        "for i in tqdm(range(10)):\n",
        "    print(\"halo\")"
      ],
      "execution_count": 2,
      "outputs": [
        {
          "output_type": "stream",
          "text": [
            "100%|██████████| 10/10 [00:00<00:00, 2136.14it/s]"
          ],
          "name": "stderr"
        },
        {
          "output_type": "stream",
          "text": [
            "halo\n",
            "halo\n",
            "halo\n",
            "halo\n",
            "halo\n",
            "halo\n",
            "halo\n",
            "halo\n",
            "halo\n",
            "halo\n"
          ],
          "name": "stdout"
        },
        {
          "output_type": "stream",
          "text": [
            "\n"
          ],
          "name": "stderr"
        }
      ]
    },
    {
      "cell_type": "code",
      "metadata": {
        "id": "ZnH0Gga30oCM",
        "colab_type": "code",
        "colab": {
          "base_uri": "https://localhost:8080/",
          "height": 34
        },
        "outputId": "8fd4fa60-229a-46df-a12f-344651b60e6c"
      },
      "source": [
        "from tqdm import tqdm\n",
        "import time\n",
        "\n",
        "text = \"\"\n",
        "for char in tqdm([\"a\", \"b\", \"c\", \"d\"]):\n",
        "    time.sleep(1) # make it slow so that we can observe\n",
        "    text = text + char"
      ],
      "execution_count": 5,
      "outputs": [
        {
          "output_type": "stream",
          "text": [
            "100%|██████████| 4/4 [00:04<00:00,  1.00s/it]\n"
          ],
          "name": "stderr"
        }
      ]
    },
    {
      "cell_type": "code",
      "metadata": {
        "id": "P1aM201V1rPq",
        "colab_type": "code",
        "colab": {
          "base_uri": "https://localhost:8080/",
          "height": 34
        },
        "outputId": "ef5a27c6-709f-4ab9-b034-deabc92cd694"
      },
      "source": [
        "text = \"\"\n",
        "\n",
        "for episode in tqdm(range(1,101), ascii=True, unit=\"execution\"):\n",
        "  time.sleep(0.01)\n",
        "  text = text + char"
      ],
      "execution_count": 14,
      "outputs": [
        {
          "output_type": "stream",
          "text": [
            "100%|##########| 100/100 [00:01<00:00, 97.39execution/s]\n"
          ],
          "name": "stderr"
        }
      ]
    },
    {
      "cell_type": "markdown",
      "metadata": {
        "id": "Kfij7Z-H2qgu",
        "colab_type": "text"
      },
      "source": [
        "The ascii be True make the bar with '#' and the unit is can set to any name. For example, \"execution\""
      ]
    },
    {
      "cell_type": "code",
      "metadata": {
        "id": "6XVkp4Dy2Y4f",
        "colab_type": "code",
        "colab": {}
      },
      "source": [
        ""
      ],
      "execution_count": 0,
      "outputs": []
    }
  ]
}